{
 "cells": [
  {
   "cell_type": "code",
   "execution_count": 13,
   "id": "09f605a4",
   "metadata": {},
   "outputs": [],
   "source": [
    "# Import Dependencies\n",
    "%matplotlib inline\n",
    "\n",
    "# Begin Python Imports\n",
    "import datetime, warnings, scipy\n",
    "warnings.filterwarnings(\"ignore\")\n",
    "\n",
    "# Data Manipulation\n",
    "import numpy as np\n",
    "import pandas as pd\n",
    "pd.set_option('display.max_columns', None)\n",
    "\n",
    "# Visualization \n",
    "import matplotlib.pyplot as plt\n",
    "import seaborn as sns\n",
    "plt.style.use('seaborn-whitegrid')"
   ]
  },
  {
   "cell_type": "markdown",
   "id": "a45fc8f8",
   "metadata": {},
   "source": [
    "####Data Acquisition and Exploration and Import data"
   ]
  },
  {
   "cell_type": "code",
   "execution_count": 14,
   "id": "494b6425",
   "metadata": {},
   "outputs": [
    {
     "data": {
      "text/html": [
       "<div>\n",
       "<style scoped>\n",
       "    .dataframe tbody tr th:only-of-type {\n",
       "        vertical-align: middle;\n",
       "    }\n",
       "\n",
       "    .dataframe tbody tr th {\n",
       "        vertical-align: top;\n",
       "    }\n",
       "\n",
       "    .dataframe thead th {\n",
       "        text-align: right;\n",
       "    }\n",
       "</style>\n",
       "<table border=\"1\" class=\"dataframe\">\n",
       "  <thead>\n",
       "    <tr style=\"text-align: right;\">\n",
       "      <th></th>\n",
       "      <th>FL_DATE</th>\n",
       "      <th>OP_CARRIER</th>\n",
       "      <th>OP_CARRIER_FL_NUM</th>\n",
       "      <th>ORIGIN</th>\n",
       "      <th>DEST</th>\n",
       "      <th>CRS_DEP_TIME</th>\n",
       "      <th>DEP_TIME</th>\n",
       "      <th>DEP_DELAY</th>\n",
       "      <th>TAXI_OUT</th>\n",
       "      <th>WHEELS_OFF</th>\n",
       "      <th>WHEELS_ON</th>\n",
       "      <th>TAXI_IN</th>\n",
       "      <th>CRS_ARR_TIME</th>\n",
       "      <th>ARR_TIME</th>\n",
       "      <th>ARR_DELAY</th>\n",
       "      <th>CANCELLED</th>\n",
       "      <th>CANCELLATION_CODE</th>\n",
       "      <th>DIVERTED</th>\n",
       "      <th>CRS_ELAPSED_TIME</th>\n",
       "      <th>ACTUAL_ELAPSED_TIME</th>\n",
       "      <th>AIR_TIME</th>\n",
       "      <th>DISTANCE</th>\n",
       "      <th>CARRIER_DELAY</th>\n",
       "      <th>WEATHER_DELAY</th>\n",
       "      <th>NAS_DELAY</th>\n",
       "      <th>SECURITY_DELAY</th>\n",
       "      <th>LATE_AIRCRAFT_DELAY</th>\n",
       "      <th>Unnamed: 27</th>\n",
       "    </tr>\n",
       "  </thead>\n",
       "  <tbody>\n",
       "    <tr>\n",
       "      <th>0</th>\n",
       "      <td>1/1/2009</td>\n",
       "      <td>XE</td>\n",
       "      <td>1204</td>\n",
       "      <td>DCA</td>\n",
       "      <td>EWR</td>\n",
       "      <td>1100</td>\n",
       "      <td>1058.0</td>\n",
       "      <td>-2.0</td>\n",
       "      <td>18.0</td>\n",
       "      <td>1116.0</td>\n",
       "      <td>1158.0</td>\n",
       "      <td>8.0</td>\n",
       "      <td>1202</td>\n",
       "      <td>1206.0</td>\n",
       "      <td>4.0</td>\n",
       "      <td>0</td>\n",
       "      <td>NaN</td>\n",
       "      <td>0</td>\n",
       "      <td>62</td>\n",
       "      <td>68.0</td>\n",
       "      <td>42.0</td>\n",
       "      <td>199</td>\n",
       "      <td>NaN</td>\n",
       "      <td>NaN</td>\n",
       "      <td>NaN</td>\n",
       "      <td>NaN</td>\n",
       "      <td>NaN</td>\n",
       "      <td>NaN</td>\n",
       "    </tr>\n",
       "    <tr>\n",
       "      <th>1</th>\n",
       "      <td>1/1/2009</td>\n",
       "      <td>XE</td>\n",
       "      <td>1206</td>\n",
       "      <td>EWR</td>\n",
       "      <td>IAD</td>\n",
       "      <td>1510</td>\n",
       "      <td>1509.0</td>\n",
       "      <td>-1.0</td>\n",
       "      <td>28.0</td>\n",
       "      <td>1537.0</td>\n",
       "      <td>1620.0</td>\n",
       "      <td>4.0</td>\n",
       "      <td>1632</td>\n",
       "      <td>1624.0</td>\n",
       "      <td>-8.0</td>\n",
       "      <td>0</td>\n",
       "      <td>NaN</td>\n",
       "      <td>0</td>\n",
       "      <td>82</td>\n",
       "      <td>75.0</td>\n",
       "      <td>43.0</td>\n",
       "      <td>213</td>\n",
       "      <td>NaN</td>\n",
       "      <td>NaN</td>\n",
       "      <td>NaN</td>\n",
       "      <td>NaN</td>\n",
       "      <td>NaN</td>\n",
       "      <td>NaN</td>\n",
       "    </tr>\n",
       "    <tr>\n",
       "      <th>1048573</th>\n",
       "      <td>3/2/2009</td>\n",
       "      <td>WN</td>\n",
       "      <td>1217</td>\n",
       "      <td>DAL</td>\n",
       "      <td>LBB</td>\n",
       "      <td>1130</td>\n",
       "      <td>1125.0</td>\n",
       "      <td>-5.0</td>\n",
       "      <td>8.0</td>\n",
       "      <td>1133.0</td>\n",
       "      <td>1224.0</td>\n",
       "      <td>2.0</td>\n",
       "      <td>1240</td>\n",
       "      <td>1226.0</td>\n",
       "      <td>-14.0</td>\n",
       "      <td>0</td>\n",
       "      <td>NaN</td>\n",
       "      <td>0</td>\n",
       "      <td>70</td>\n",
       "      <td>61.0</td>\n",
       "      <td>51.0</td>\n",
       "      <td>293</td>\n",
       "      <td>NaN</td>\n",
       "      <td>NaN</td>\n",
       "      <td>NaN</td>\n",
       "      <td>NaN</td>\n",
       "      <td>NaN</td>\n",
       "      <td>NaN</td>\n",
       "    </tr>\n",
       "    <tr>\n",
       "      <th>1048574</th>\n",
       "      <td>3/2/2009</td>\n",
       "      <td>WN</td>\n",
       "      <td>1608</td>\n",
       "      <td>DAL</td>\n",
       "      <td>LBB</td>\n",
       "      <td>2015</td>\n",
       "      <td>2016.0</td>\n",
       "      <td>1.0</td>\n",
       "      <td>9.0</td>\n",
       "      <td>2025.0</td>\n",
       "      <td>2117.0</td>\n",
       "      <td>3.0</td>\n",
       "      <td>2130</td>\n",
       "      <td>2120.0</td>\n",
       "      <td>-10.0</td>\n",
       "      <td>0</td>\n",
       "      <td>NaN</td>\n",
       "      <td>0</td>\n",
       "      <td>75</td>\n",
       "      <td>64.0</td>\n",
       "      <td>52.0</td>\n",
       "      <td>293</td>\n",
       "      <td>NaN</td>\n",
       "      <td>NaN</td>\n",
       "      <td>NaN</td>\n",
       "      <td>NaN</td>\n",
       "      <td>NaN</td>\n",
       "      <td>NaN</td>\n",
       "    </tr>\n",
       "  </tbody>\n",
       "</table>\n",
       "</div>"
      ],
      "text/plain": [
       "          FL_DATE OP_CARRIER  OP_CARRIER_FL_NUM ORIGIN DEST  CRS_DEP_TIME  \\\n",
       "0        1/1/2009         XE               1204    DCA  EWR          1100   \n",
       "1        1/1/2009         XE               1206    EWR  IAD          1510   \n",
       "1048573  3/2/2009         WN               1217    DAL  LBB          1130   \n",
       "1048574  3/2/2009         WN               1608    DAL  LBB          2015   \n",
       "\n",
       "         DEP_TIME  DEP_DELAY  TAXI_OUT  WHEELS_OFF  WHEELS_ON  TAXI_IN  \\\n",
       "0          1058.0       -2.0      18.0      1116.0     1158.0      8.0   \n",
       "1          1509.0       -1.0      28.0      1537.0     1620.0      4.0   \n",
       "1048573    1125.0       -5.0       8.0      1133.0     1224.0      2.0   \n",
       "1048574    2016.0        1.0       9.0      2025.0     2117.0      3.0   \n",
       "\n",
       "         CRS_ARR_TIME  ARR_TIME  ARR_DELAY  CANCELLED CANCELLATION_CODE  \\\n",
       "0                1202    1206.0        4.0          0               NaN   \n",
       "1                1632    1624.0       -8.0          0               NaN   \n",
       "1048573          1240    1226.0      -14.0          0               NaN   \n",
       "1048574          2130    2120.0      -10.0          0               NaN   \n",
       "\n",
       "         DIVERTED  CRS_ELAPSED_TIME  ACTUAL_ELAPSED_TIME  AIR_TIME  DISTANCE  \\\n",
       "0               0                62                 68.0      42.0       199   \n",
       "1               0                82                 75.0      43.0       213   \n",
       "1048573         0                70                 61.0      51.0       293   \n",
       "1048574         0                75                 64.0      52.0       293   \n",
       "\n",
       "         CARRIER_DELAY  WEATHER_DELAY  NAS_DELAY  SECURITY_DELAY  \\\n",
       "0                  NaN            NaN        NaN             NaN   \n",
       "1                  NaN            NaN        NaN             NaN   \n",
       "1048573            NaN            NaN        NaN             NaN   \n",
       "1048574            NaN            NaN        NaN             NaN   \n",
       "\n",
       "         LATE_AIRCRAFT_DELAY  Unnamed: 27  \n",
       "0                        NaN          NaN  \n",
       "1                        NaN          NaN  \n",
       "1048573                  NaN          NaN  \n",
       "1048574                  NaN          NaN  "
      ]
     },
     "execution_count": 14,
     "metadata": {},
     "output_type": "execute_result"
    }
   ],
   "source": [
    "# Read 2018 airport data \n",
    "flight_data = pd.read_csv(r\"C:\\Users\\shuchita\\Downloads\\2009.csv\")\n",
    "\n",
    "# Check first 2 instances and last 2 instances\n",
    "flight_data.head(2).append(flight_data.tail(2))"
   ]
  },
  {
   "cell_type": "markdown",
   "id": "fad7be3a",
   "metadata": {},
   "source": [
    "###Dataset exploration"
   ]
  },
  {
   "cell_type": "code",
   "execution_count": 15,
   "id": "eb04a1ed",
   "metadata": {},
   "outputs": [
    {
     "name": "stdout",
     "output_type": "stream",
     "text": [
      "There are 1048575 rows and 28 columns from dataset\n"
     ]
    }
   ],
   "source": [
    "# Check dimension of dataset\n",
    "flight_data.shape\n",
    "print(\"There are \"+ str(flight_data.shape[0]) +\" rows and \"+ str(flight_data.shape[1]) +\" columns from dataset\")"
   ]
  },
  {
   "cell_type": "code",
   "execution_count": 16,
   "id": "b5484eb3",
   "metadata": {},
   "outputs": [],
   "source": [
    "# Convert flight_data column to datetime format\n",
    "flight_data['FL_DATE'] =  pd.to_datetime(flight_data['FL_DATE'], format='%m/%d/%Y')"
   ]
  },
  {
   "cell_type": "code",
   "execution_count": 17,
   "id": "cb2663d5",
   "metadata": {},
   "outputs": [
    {
     "name": "stdout",
     "output_type": "stream",
     "text": [
      "<class 'pandas.core.frame.DataFrame'>\n",
      "RangeIndex: 1048575 entries, 0 to 1048574\n",
      "Data columns (total 28 columns):\n",
      " #   Column               Non-Null Count    Dtype         \n",
      "---  ------               --------------    -----         \n",
      " 0   FL_DATE              1048575 non-null  datetime64[ns]\n",
      " 1   OP_CARRIER           1048575 non-null  object        \n",
      " 2   OP_CARRIER_FL_NUM    1048575 non-null  int64         \n",
      " 3   ORIGIN               1048575 non-null  object        \n",
      " 4   DEST                 1048575 non-null  object        \n",
      " 5   CRS_DEP_TIME         1048575 non-null  int64         \n",
      " 6   DEP_TIME             1027599 non-null  float64       \n",
      " 7   DEP_DELAY            1027599 non-null  float64       \n",
      " 8   TAXI_OUT             1027017 non-null  float64       \n",
      " 9   WHEELS_OFF           1027017 non-null  float64       \n",
      " 10  WHEELS_ON            1026100 non-null  float64       \n",
      " 11  TAXI_IN              1026101 non-null  float64       \n",
      " 12  CRS_ARR_TIME         1048575 non-null  int64         \n",
      " 13  ARR_TIME             1026100 non-null  float64       \n",
      " 14  ARR_DELAY            1024542 non-null  float64       \n",
      " 15  CANCELLED            1048575 non-null  int64         \n",
      " 16  CANCELLATION_CODE    21878 non-null    object        \n",
      " 17  DIVERTED             1048575 non-null  int64         \n",
      " 18  CRS_ELAPSED_TIME     1048575 non-null  int64         \n",
      " 19  ACTUAL_ELAPSED_TIME  1024541 non-null  float64       \n",
      " 20  AIR_TIME             1024542 non-null  float64       \n",
      " 21  DISTANCE             1048575 non-null  int64         \n",
      " 22  CARRIER_DELAY        194475 non-null   float64       \n",
      " 23  WEATHER_DELAY        194475 non-null   float64       \n",
      " 24  NAS_DELAY            194475 non-null   float64       \n",
      " 25  SECURITY_DELAY       194475 non-null   float64       \n",
      " 26  LATE_AIRCRAFT_DELAY  194475 non-null   float64       \n",
      " 27  Unnamed: 27          0 non-null        float64       \n",
      "dtypes: datetime64[ns](1), float64(16), int64(7), object(4)\n",
      "memory usage: 224.0+ MB\n"
     ]
    }
   ],
   "source": [
    "# Check column type\n",
    "flight_data.info()"
   ]
  },
  {
   "cell_type": "markdown",
   "id": "bc2c30de",
   "metadata": {},
   "source": [
    "###Handle of missing data"
   ]
  },
  {
   "cell_type": "code",
   "execution_count": 18,
   "id": "8c4a785b",
   "metadata": {},
   "outputs": [
    {
     "name": "stdout",
     "output_type": "stream",
     "text": [
      "Proportion of missing data in columns\n",
      "            column_name  percentage\n",
      "0           Unnamed: 27  100.000000\n",
      "1     CANCELLATION_CODE   97.913549\n",
      "2         CARRIER_DELAY   81.453401\n",
      "3         WEATHER_DELAY   81.453401\n",
      "4             NAS_DELAY   81.453401\n",
      "5        SECURITY_DELAY   81.453401\n",
      "6   LATE_AIRCRAFT_DELAY   81.453401\n",
      "7   ACTUAL_ELAPSED_TIME    2.292063\n",
      "8             ARR_DELAY    2.291968\n",
      "9              AIR_TIME    2.291968\n",
      "10            WHEELS_ON    2.143385\n",
      "11             ARR_TIME    2.143385\n",
      "12              TAXI_IN    2.143290\n",
      "13             TAXI_OUT    2.055933\n",
      "14           WHEELS_OFF    2.055933\n",
      "15            DEP_DELAY    2.000429\n",
      "16             DEP_TIME    2.000429\n"
     ]
    }
   ],
   "source": [
    "# Calculate the proportion of missing data\n",
    "\n",
    "def checkMissing(data,perc=0):\n",
    "    \"\"\" \n",
    "    Takes in a dataframe and returns\n",
    "    the percentage of missing value.\n",
    "    \"\"\"\n",
    "    missing = [(i, data[i].isna().mean()*100) for i in data]\n",
    "    missing = pd.DataFrame(missing, columns=[\"column_name\", \"percentage\"])\n",
    "    missing = missing[missing.percentage > perc]\n",
    "    print(missing.sort_values(\"percentage\", ascending=False).reset_index(drop=True))\n",
    "\n",
    "print(\"Proportion of missing data in columns\")\n",
    "checkMissing(flight_data)"
   ]
  },
  {
   "cell_type": "code",
   "execution_count": 19,
   "id": "74d48fd3",
   "metadata": {},
   "outputs": [],
   "source": [
    "#Fill the missing value 0\n",
    "flight_data['LATE_AIRCRAFT_DELAY']=flight_data['LATE_AIRCRAFT_DELAY'].fillna(0)\n",
    "flight_data['CARRIER_DELAY']=flight_data['CARRIER_DELAY'].fillna(0)\n",
    "flight_data['WEATHER_DELAY']=flight_data['WEATHER_DELAY'].fillna(0)\n",
    "flight_data['NAS_DELAY']=flight_data['NAS_DELAY'].fillna(0)\n",
    "flight_data['SECURITY_DELAY']=flight_data['SECURITY_DELAY'].fillna(0)"
   ]
  },
  {
   "cell_type": "code",
   "execution_count": 20,
   "id": "b7533388",
   "metadata": {},
   "outputs": [],
   "source": [
    "# Function that convert the 'HHMM' string to datetime.time\n",
    "def format_heure(chaine):\n",
    "    if pd.isnull(chaine):\n",
    "        return np.nan\n",
    "    else:\n",
    "        if chaine == 2400: chaine = 0\n",
    "        chaine = \"{0:04d}\".format(int(chaine))\n",
    "        heure = datetime.time(int(chaine[0:2]), int(chaine[2:4]))\n",
    "        return heure\n",
    "        # return pd.to_datetime(heure, format='%H:%M:%S')\n",
    "    \n",
    "    # pd.to_datetime(heure, format='%m/%d-%Y')"
   ]
  },
  {
   "cell_type": "code",
   "execution_count": 21,
   "id": "8f485035",
   "metadata": {},
   "outputs": [],
   "source": [
    "flight_data['DEP_TIME'] = flight_data['DEP_TIME'].apply(format_heure)\n",
    "flight_data['CRS_DEP_TIME'] = flight_data['CRS_DEP_TIME'].apply(format_heure)\n",
    "\n",
    "flight_data['ARR_TIME'] = flight_data['ARR_TIME'].apply(format_heure) \n",
    "flight_data['CRS_ARR_TIME'] = flight_data['CRS_ARR_TIME'].apply(format_heure)\n",
    "\n",
    "flight_data['WHEELS_OFF'] = flight_data['WHEELS_OFF'].apply(format_heure)\n",
    "flight_data['WHEELS_ON'] = flight_data['WHEELS_ON'].apply(format_heure)"
   ]
  },
  {
   "cell_type": "code",
   "execution_count": 22,
   "id": "ebcdcb5c",
   "metadata": {},
   "outputs": [],
   "source": [
    "# Convert flight_data column to datetime format\n",
    "\n",
    "def time_difference(actual,plan):\n",
    "    actual_time = pd.to_timedelta(actual.astype(str)) \n",
    "    plan_time = pd.to_timedelta(plan.astype(str))\n",
    "    return actual_time.sub(plan_time).dt.total_seconds().div(60)\n",
    "\n",
    "flight_data['WHEELS_OFF_elapse'] =  time_difference(flight_data['WHEELS_OFF'],flight_data['DEP_TIME'])\n",
    "flight_data['WHEELS_ON_elapse'] =  time_difference(flight_data['ARR_TIME'] ,flight_data['WHEELS_ON'])\n",
    "\n",
    "# Remove incorrect record\n",
    "flight_data=flight_data[flight_data['WHEELS_OFF_elapse']>0]\n",
    "flight_data=flight_data[flight_data['WHEELS_ON_elapse']>0]"
   ]
  },
  {
   "cell_type": "code",
   "execution_count": 23,
   "id": "ffe9641f",
   "metadata": {},
   "outputs": [
    {
     "data": {
      "text/html": [
       "<div>\n",
       "<style scoped>\n",
       "    .dataframe tbody tr th:only-of-type {\n",
       "        vertical-align: middle;\n",
       "    }\n",
       "\n",
       "    .dataframe tbody tr th {\n",
       "        vertical-align: top;\n",
       "    }\n",
       "\n",
       "    .dataframe thead th {\n",
       "        text-align: right;\n",
       "    }\n",
       "</style>\n",
       "<table border=\"1\" class=\"dataframe\">\n",
       "  <thead>\n",
       "    <tr style=\"text-align: right;\">\n",
       "      <th></th>\n",
       "      <th>FL_DATE</th>\n",
       "      <th>OP_CARRIER</th>\n",
       "      <th>OP_CARRIER_FL_NUM</th>\n",
       "      <th>ORIGIN</th>\n",
       "      <th>DEST</th>\n",
       "      <th>CRS_DEP_TIME</th>\n",
       "      <th>DEP_TIME</th>\n",
       "      <th>DEP_DELAY</th>\n",
       "      <th>TAXI_OUT</th>\n",
       "      <th>WHEELS_OFF</th>\n",
       "      <th>WHEELS_ON</th>\n",
       "      <th>TAXI_IN</th>\n",
       "      <th>CRS_ARR_TIME</th>\n",
       "      <th>ARR_TIME</th>\n",
       "      <th>ARR_DELAY</th>\n",
       "      <th>CANCELLED</th>\n",
       "      <th>CANCELLATION_CODE</th>\n",
       "      <th>DIVERTED</th>\n",
       "      <th>CRS_ELAPSED_TIME</th>\n",
       "      <th>ACTUAL_ELAPSED_TIME</th>\n",
       "      <th>AIR_TIME</th>\n",
       "      <th>DISTANCE</th>\n",
       "      <th>CARRIER_DELAY</th>\n",
       "      <th>WEATHER_DELAY</th>\n",
       "      <th>NAS_DELAY</th>\n",
       "      <th>SECURITY_DELAY</th>\n",
       "      <th>LATE_AIRCRAFT_DELAY</th>\n",
       "      <th>Unnamed: 27</th>\n",
       "      <th>WHEELS_OFF_elapse</th>\n",
       "      <th>WHEELS_ON_elapse</th>\n",
       "    </tr>\n",
       "  </thead>\n",
       "  <tbody>\n",
       "    <tr>\n",
       "      <th>0</th>\n",
       "      <td>2009-01-01</td>\n",
       "      <td>XE</td>\n",
       "      <td>1204</td>\n",
       "      <td>DCA</td>\n",
       "      <td>EWR</td>\n",
       "      <td>11:00:00</td>\n",
       "      <td>10:58:00</td>\n",
       "      <td>-2.0</td>\n",
       "      <td>18.0</td>\n",
       "      <td>11:16:00</td>\n",
       "      <td>11:58:00</td>\n",
       "      <td>8.0</td>\n",
       "      <td>12:02:00</td>\n",
       "      <td>12:06:00</td>\n",
       "      <td>4.0</td>\n",
       "      <td>0</td>\n",
       "      <td>NaN</td>\n",
       "      <td>0</td>\n",
       "      <td>62</td>\n",
       "      <td>68.0</td>\n",
       "      <td>42.0</td>\n",
       "      <td>199</td>\n",
       "      <td>0.0</td>\n",
       "      <td>0.0</td>\n",
       "      <td>0.0</td>\n",
       "      <td>0.0</td>\n",
       "      <td>0.0</td>\n",
       "      <td>NaN</td>\n",
       "      <td>18.0</td>\n",
       "      <td>8.0</td>\n",
       "    </tr>\n",
       "    <tr>\n",
       "      <th>1</th>\n",
       "      <td>2009-01-01</td>\n",
       "      <td>XE</td>\n",
       "      <td>1206</td>\n",
       "      <td>EWR</td>\n",
       "      <td>IAD</td>\n",
       "      <td>15:10:00</td>\n",
       "      <td>15:09:00</td>\n",
       "      <td>-1.0</td>\n",
       "      <td>28.0</td>\n",
       "      <td>15:37:00</td>\n",
       "      <td>16:20:00</td>\n",
       "      <td>4.0</td>\n",
       "      <td>16:32:00</td>\n",
       "      <td>16:24:00</td>\n",
       "      <td>-8.0</td>\n",
       "      <td>0</td>\n",
       "      <td>NaN</td>\n",
       "      <td>0</td>\n",
       "      <td>82</td>\n",
       "      <td>75.0</td>\n",
       "      <td>43.0</td>\n",
       "      <td>213</td>\n",
       "      <td>0.0</td>\n",
       "      <td>0.0</td>\n",
       "      <td>0.0</td>\n",
       "      <td>0.0</td>\n",
       "      <td>0.0</td>\n",
       "      <td>NaN</td>\n",
       "      <td>28.0</td>\n",
       "      <td>4.0</td>\n",
       "    </tr>\n",
       "    <tr>\n",
       "      <th>1048573</th>\n",
       "      <td>2009-03-02</td>\n",
       "      <td>WN</td>\n",
       "      <td>1217</td>\n",
       "      <td>DAL</td>\n",
       "      <td>LBB</td>\n",
       "      <td>11:30:00</td>\n",
       "      <td>11:25:00</td>\n",
       "      <td>-5.0</td>\n",
       "      <td>8.0</td>\n",
       "      <td>11:33:00</td>\n",
       "      <td>12:24:00</td>\n",
       "      <td>2.0</td>\n",
       "      <td>12:40:00</td>\n",
       "      <td>12:26:00</td>\n",
       "      <td>-14.0</td>\n",
       "      <td>0</td>\n",
       "      <td>NaN</td>\n",
       "      <td>0</td>\n",
       "      <td>70</td>\n",
       "      <td>61.0</td>\n",
       "      <td>51.0</td>\n",
       "      <td>293</td>\n",
       "      <td>0.0</td>\n",
       "      <td>0.0</td>\n",
       "      <td>0.0</td>\n",
       "      <td>0.0</td>\n",
       "      <td>0.0</td>\n",
       "      <td>NaN</td>\n",
       "      <td>8.0</td>\n",
       "      <td>2.0</td>\n",
       "    </tr>\n",
       "    <tr>\n",
       "      <th>1048574</th>\n",
       "      <td>2009-03-02</td>\n",
       "      <td>WN</td>\n",
       "      <td>1608</td>\n",
       "      <td>DAL</td>\n",
       "      <td>LBB</td>\n",
       "      <td>20:15:00</td>\n",
       "      <td>20:16:00</td>\n",
       "      <td>1.0</td>\n",
       "      <td>9.0</td>\n",
       "      <td>20:25:00</td>\n",
       "      <td>21:17:00</td>\n",
       "      <td>3.0</td>\n",
       "      <td>21:30:00</td>\n",
       "      <td>21:20:00</td>\n",
       "      <td>-10.0</td>\n",
       "      <td>0</td>\n",
       "      <td>NaN</td>\n",
       "      <td>0</td>\n",
       "      <td>75</td>\n",
       "      <td>64.0</td>\n",
       "      <td>52.0</td>\n",
       "      <td>293</td>\n",
       "      <td>0.0</td>\n",
       "      <td>0.0</td>\n",
       "      <td>0.0</td>\n",
       "      <td>0.0</td>\n",
       "      <td>0.0</td>\n",
       "      <td>NaN</td>\n",
       "      <td>9.0</td>\n",
       "      <td>3.0</td>\n",
       "    </tr>\n",
       "  </tbody>\n",
       "</table>\n",
       "</div>"
      ],
      "text/plain": [
       "           FL_DATE OP_CARRIER  OP_CARRIER_FL_NUM ORIGIN DEST CRS_DEP_TIME  \\\n",
       "0       2009-01-01         XE               1204    DCA  EWR     11:00:00   \n",
       "1       2009-01-01         XE               1206    EWR  IAD     15:10:00   \n",
       "1048573 2009-03-02         WN               1217    DAL  LBB     11:30:00   \n",
       "1048574 2009-03-02         WN               1608    DAL  LBB     20:15:00   \n",
       "\n",
       "         DEP_TIME  DEP_DELAY  TAXI_OUT WHEELS_OFF WHEELS_ON  TAXI_IN  \\\n",
       "0        10:58:00       -2.0      18.0   11:16:00  11:58:00      8.0   \n",
       "1        15:09:00       -1.0      28.0   15:37:00  16:20:00      4.0   \n",
       "1048573  11:25:00       -5.0       8.0   11:33:00  12:24:00      2.0   \n",
       "1048574  20:16:00        1.0       9.0   20:25:00  21:17:00      3.0   \n",
       "\n",
       "        CRS_ARR_TIME  ARR_TIME  ARR_DELAY  CANCELLED CANCELLATION_CODE  \\\n",
       "0           12:02:00  12:06:00        4.0          0               NaN   \n",
       "1           16:32:00  16:24:00       -8.0          0               NaN   \n",
       "1048573     12:40:00  12:26:00      -14.0          0               NaN   \n",
       "1048574     21:30:00  21:20:00      -10.0          0               NaN   \n",
       "\n",
       "         DIVERTED  CRS_ELAPSED_TIME  ACTUAL_ELAPSED_TIME  AIR_TIME  DISTANCE  \\\n",
       "0               0                62                 68.0      42.0       199   \n",
       "1               0                82                 75.0      43.0       213   \n",
       "1048573         0                70                 61.0      51.0       293   \n",
       "1048574         0                75                 64.0      52.0       293   \n",
       "\n",
       "         CARRIER_DELAY  WEATHER_DELAY  NAS_DELAY  SECURITY_DELAY  \\\n",
       "0                  0.0            0.0        0.0             0.0   \n",
       "1                  0.0            0.0        0.0             0.0   \n",
       "1048573            0.0            0.0        0.0             0.0   \n",
       "1048574            0.0            0.0        0.0             0.0   \n",
       "\n",
       "         LATE_AIRCRAFT_DELAY  Unnamed: 27  WHEELS_OFF_elapse  WHEELS_ON_elapse  \n",
       "0                        0.0          NaN               18.0               8.0  \n",
       "1                        0.0          NaN               28.0               4.0  \n",
       "1048573                  0.0          NaN                8.0               2.0  \n",
       "1048574                  0.0          NaN                9.0               3.0  "
      ]
     },
     "execution_count": 23,
     "metadata": {},
     "output_type": "execute_result"
    }
   ],
   "source": [
    "# Check first 2 instances and last 2 instances\n",
    "flight_data.head(2).append(flight_data.tail(2))"
   ]
  },
  {
   "cell_type": "code",
   "execution_count": 24,
   "id": "9d496d70",
   "metadata": {},
   "outputs": [
    {
     "name": "stdout",
     "output_type": "stream",
     "text": [
      "<class 'pandas.core.frame.DataFrame'>\n",
      "Int64Index: 1022919 entries, 0 to 1048574\n",
      "Data columns (total 30 columns):\n",
      " #   Column               Non-Null Count    Dtype         \n",
      "---  ------               --------------    -----         \n",
      " 0   FL_DATE              1022919 non-null  datetime64[ns]\n",
      " 1   OP_CARRIER           1022919 non-null  object        \n",
      " 2   OP_CARRIER_FL_NUM    1022919 non-null  int64         \n",
      " 3   ORIGIN               1022919 non-null  object        \n",
      " 4   DEST                 1022919 non-null  object        \n",
      " 5   CRS_DEP_TIME         1022919 non-null  object        \n",
      " 6   DEP_TIME             1022919 non-null  object        \n",
      " 7   DEP_DELAY            1022919 non-null  float64       \n",
      " 8   TAXI_OUT             1022919 non-null  float64       \n",
      " 9   WHEELS_OFF           1022919 non-null  object        \n",
      " 10  WHEELS_ON            1022919 non-null  object        \n",
      " 11  TAXI_IN              1022919 non-null  float64       \n",
      " 12  CRS_ARR_TIME         1022919 non-null  object        \n",
      " 13  ARR_TIME             1022919 non-null  object        \n",
      " 14  ARR_DELAY            1021373 non-null  float64       \n",
      " 15  CANCELLED            1022919 non-null  int64         \n",
      " 16  CANCELLATION_CODE    0 non-null        object        \n",
      " 17  DIVERTED             1022919 non-null  int64         \n",
      " 18  CRS_ELAPSED_TIME     1022919 non-null  int64         \n",
      " 19  ACTUAL_ELAPSED_TIME  1021373 non-null  float64       \n",
      " 20  AIR_TIME             1021373 non-null  float64       \n",
      " 21  DISTANCE             1022919 non-null  int64         \n",
      " 22  CARRIER_DELAY        1022919 non-null  float64       \n",
      " 23  WEATHER_DELAY        1022919 non-null  float64       \n",
      " 24  NAS_DELAY            1022919 non-null  float64       \n",
      " 25  SECURITY_DELAY       1022919 non-null  float64       \n",
      " 26  LATE_AIRCRAFT_DELAY  1022919 non-null  float64       \n",
      " 27  Unnamed: 27          0 non-null        float64       \n",
      " 28  WHEELS_OFF_elapse    1022919 non-null  float64       \n",
      " 29  WHEELS_ON_elapse     1022919 non-null  float64       \n",
      "dtypes: datetime64[ns](1), float64(14), int64(5), object(10)\n",
      "memory usage: 241.9+ MB\n"
     ]
    }
   ],
   "source": [
    "# Check column type\n",
    "flight_data.info()"
   ]
  },
  {
   "cell_type": "code",
   "execution_count": 25,
   "id": "3a393733",
   "metadata": {},
   "outputs": [],
   "source": [
    "# Drop the unused columns \n",
    "\n",
    "flight_data.drop(['Unnamed: 27', \n",
    "                  'CANCELLATION_CODE',\n",
    "                  'CANCELLED',\n",
    "                  'OP_CARRIER_FL_NUM',\n",
    "                  'CRS_DEP_TIME',\n",
    "                  'DEP_TIME',\n",
    "                  'CRS_ARR_TIME',\n",
    "                  'ARR_TIME',\n",
    "                  'WHEELS_ON',\n",
    "                  'WHEELS_OFF'\n",
    "                 ],\n",
    "                 axis = 1, inplace = True)"
   ]
  },
  {
   "cell_type": "code",
   "execution_count": 26,
   "id": "5ec1b20c",
   "metadata": {},
   "outputs": [
    {
     "data": {
      "text/plain": [
       "FL_DATE                   0\n",
       "OP_CARRIER                0\n",
       "ORIGIN                    0\n",
       "DEST                      0\n",
       "DEP_DELAY                 0\n",
       "TAXI_OUT                  0\n",
       "TAXI_IN                   0\n",
       "ARR_DELAY              1546\n",
       "DIVERTED                  0\n",
       "CRS_ELAPSED_TIME          0\n",
       "ACTUAL_ELAPSED_TIME    1546\n",
       "AIR_TIME               1546\n",
       "DISTANCE                  0\n",
       "CARRIER_DELAY             0\n",
       "WEATHER_DELAY             0\n",
       "NAS_DELAY                 0\n",
       "SECURITY_DELAY            0\n",
       "LATE_AIRCRAFT_DELAY       0\n",
       "WHEELS_OFF_elapse         0\n",
       "WHEELS_ON_elapse          0\n",
       "dtype: int64"
      ]
     },
     "execution_count": 26,
     "metadata": {},
     "output_type": "execute_result"
    }
   ],
   "source": [
    "#Check number of missing values\n",
    "flight_data.isna().sum()"
   ]
  },
  {
   "cell_type": "code",
   "execution_count": 27,
   "id": "d4b6234e",
   "metadata": {},
   "outputs": [],
   "source": [
    "flight_data = flight_data.dropna()"
   ]
  },
  {
   "cell_type": "code",
   "execution_count": 28,
   "id": "d04858e5",
   "metadata": {},
   "outputs": [
    {
     "data": {
      "text/plain": [
       "FL_DATE                0\n",
       "OP_CARRIER             0\n",
       "ORIGIN                 0\n",
       "DEST                   0\n",
       "DEP_DELAY              0\n",
       "TAXI_OUT               0\n",
       "TAXI_IN                0\n",
       "ARR_DELAY              0\n",
       "DIVERTED               0\n",
       "CRS_ELAPSED_TIME       0\n",
       "ACTUAL_ELAPSED_TIME    0\n",
       "AIR_TIME               0\n",
       "DISTANCE               0\n",
       "CARRIER_DELAY          0\n",
       "WEATHER_DELAY          0\n",
       "NAS_DELAY              0\n",
       "SECURITY_DELAY         0\n",
       "LATE_AIRCRAFT_DELAY    0\n",
       "WHEELS_OFF_elapse      0\n",
       "WHEELS_ON_elapse       0\n",
       "dtype: int64"
      ]
     },
     "execution_count": 28,
     "metadata": {},
     "output_type": "execute_result"
    }
   ],
   "source": [
    "#Check number of missing values\n",
    "flight_data.isna().sum()"
   ]
  },
  {
   "cell_type": "code",
   "execution_count": 29,
   "id": "7bef0587",
   "metadata": {},
   "outputs": [
    {
     "data": {
      "text/plain": [
       "array(['XE', 'YV', 'NW', 'OH', 'OO', 'UA', 'US', 'WN', 'EV', 'F9', 'FL',\n",
       "       'HA', 'MQ', '9E', 'AA', 'AS', 'B6', 'CO', 'DL'], dtype=object)"
      ]
     },
     "execution_count": 29,
     "metadata": {},
     "output_type": "execute_result"
    }
   ],
   "source": [
    "# Check the instances for OP_CARRIER\n",
    "flight_data.OP_CARRIER.unique()"
   ]
  },
  {
   "cell_type": "code",
   "execution_count": 30,
   "id": "471400c7",
   "metadata": {},
   "outputs": [],
   "source": [
    "flight_data['OP_CARRIER'].replace({\n",
    "    'UA':'United Airlines',\n",
    "    'AS':'Alaska Airlines',\n",
    "    '9E':'Endeavor Air',\n",
    "    'B6':'JetBlue Airways',\n",
    "    'EV':'ExpressJet',\n",
    "    'F9':'Frontier Airlines',\n",
    "    'G4':'Allegiant Air',\n",
    "    'HA':'Hawaiian Airlines',\n",
    "    'MQ':'Envoy Air',\n",
    "    'NK':'Spirit Airlines',\n",
    "    'OH':'PSA Airlines',\n",
    "    'OO':'SkyWest Airlines',\n",
    "    'VX':'Virgin America',\n",
    "    'WN':'Southwest Airlines',\n",
    "    'YV':'Mesa Airline',\n",
    "    'YX':'Republic Airways',\n",
    "    'AA':'American Airlines',\n",
    "    'DL':'Delta Airlines'\n",
    "}, inplace=True)"
   ]
  },
  {
   "cell_type": "code",
   "execution_count": 31,
   "id": "8e71d715",
   "metadata": {},
   "outputs": [
    {
     "data": {
      "text/plain": [
       "19"
      ]
     },
     "execution_count": 31,
     "metadata": {},
     "output_type": "execute_result"
    }
   ],
   "source": [
    "flight_data.OP_CARRIER.nunique()"
   ]
  },
  {
   "cell_type": "code",
   "execution_count": 32,
   "id": "7a17c4b6",
   "metadata": {},
   "outputs": [
    {
     "data": {
      "text/plain": [
       "Southwest Airlines    183260\n",
       "American Airlines      88818\n",
       "SkyWest Airlines       86238\n",
       "US                     68797\n",
       "Delta Airlines         68013\n",
       "Envoy Air              66895\n",
       "United Airlines        61834\n",
       "NW                     45934\n",
       "XE                     44918\n",
       "ExpressJet             44636\n",
       "Endeavor Air           41816\n",
       "CO                     41243\n",
       "FL                     38470\n",
       "Mesa Airline           37882\n",
       "JetBlue Airways        31077\n",
       "PSA Airlines           23935\n",
       "Alaska Airlines        21268\n",
       "Frontier Airlines      14075\n",
       "Hawaiian Airlines      12264\n",
       "Name: OP_CARRIER, dtype: int64"
      ]
     },
     "execution_count": 32,
     "metadata": {},
     "output_type": "execute_result"
    }
   ],
   "source": [
    "flight_data.OP_CARRIER.value_counts()"
   ]
  },
  {
   "cell_type": "code",
   "execution_count": 33,
   "id": "38e6fbbe",
   "metadata": {},
   "outputs": [
    {
     "data": {
      "text/plain": [
       "ATL    64003\n",
       "ORD    49238\n",
       "DFW    41421\n",
       "DEN    38075\n",
       "LAX    30512\n",
       "PHX    30023\n",
       "IAH    27931\n",
       "LAS    25138\n",
       "DTW    23067\n",
       "SLC    21230\n",
       "SFO    20978\n",
       "MCO    20241\n",
       "CLT    19011\n",
       "EWR    18990\n",
       "MSP    18424\n",
       "JFK    17372\n",
       "BOS    16933\n",
       "LGA    15970\n",
       "BWI    15436\n",
       "SEA    15101\n",
       "Name: DEST, dtype: int64"
      ]
     },
     "execution_count": 33,
     "metadata": {},
     "output_type": "execute_result"
    }
   ],
   "source": [
    "flight_data.DEST.value_counts().iloc[:20]"
   ]
  },
  {
   "cell_type": "code",
   "execution_count": 34,
   "id": "b322c88a",
   "metadata": {},
   "outputs": [
    {
     "data": {
      "text/html": [
       "<div>\n",
       "<style scoped>\n",
       "    .dataframe tbody tr th:only-of-type {\n",
       "        vertical-align: middle;\n",
       "    }\n",
       "\n",
       "    .dataframe tbody tr th {\n",
       "        vertical-align: top;\n",
       "    }\n",
       "\n",
       "    .dataframe thead th {\n",
       "        text-align: right;\n",
       "    }\n",
       "</style>\n",
       "<table border=\"1\" class=\"dataframe\">\n",
       "  <thead>\n",
       "    <tr style=\"text-align: right;\">\n",
       "      <th></th>\n",
       "      <th>DEST</th>\n",
       "      <th>TOTAL_FLIGHTS</th>\n",
       "    </tr>\n",
       "  </thead>\n",
       "  <tbody>\n",
       "    <tr>\n",
       "      <th>0</th>\n",
       "      <td>ATL</td>\n",
       "      <td>64003</td>\n",
       "    </tr>\n",
       "  </tbody>\n",
       "</table>\n",
       "</div>"
      ],
      "text/plain": [
       "  DEST  TOTAL_FLIGHTS\n",
       "0  ATL          64003"
      ]
     },
     "execution_count": 34,
     "metadata": {},
     "output_type": "execute_result"
    }
   ],
   "source": [
    "top_cities = flight_data.DEST.value_counts().iloc[0:1].rename_axis('DEST').reset_index(name='TOTAL_FLIGHTS')\n",
    "top_cities.head()"
   ]
  },
  {
   "cell_type": "code",
   "execution_count": 35,
   "id": "427ed730",
   "metadata": {},
   "outputs": [],
   "source": [
    "# Checking the cities within the numpy array just to verify that it worked\n",
    "top_cities.DEST.unique()\n",
    "\n",
    "# Creating a list with top cities only:\n",
    "city_list = top_cities['DEST'].tolist()"
   ]
  },
  {
   "cell_type": "code",
   "execution_count": 36,
   "id": "30924d81",
   "metadata": {},
   "outputs": [
    {
     "data": {
      "text/html": [
       "<div>\n",
       "<style scoped>\n",
       "    .dataframe tbody tr th:only-of-type {\n",
       "        vertical-align: middle;\n",
       "    }\n",
       "\n",
       "    .dataframe tbody tr th {\n",
       "        vertical-align: top;\n",
       "    }\n",
       "\n",
       "    .dataframe thead th {\n",
       "        text-align: right;\n",
       "    }\n",
       "</style>\n",
       "<table border=\"1\" class=\"dataframe\">\n",
       "  <thead>\n",
       "    <tr style=\"text-align: right;\">\n",
       "      <th></th>\n",
       "      <th>FL_DATE</th>\n",
       "      <th>OP_CARRIER</th>\n",
       "      <th>ORIGIN</th>\n",
       "      <th>DEST</th>\n",
       "      <th>DEP_DELAY</th>\n",
       "      <th>TAXI_OUT</th>\n",
       "      <th>TAXI_IN</th>\n",
       "      <th>ARR_DELAY</th>\n",
       "      <th>DIVERTED</th>\n",
       "      <th>CRS_ELAPSED_TIME</th>\n",
       "      <th>ACTUAL_ELAPSED_TIME</th>\n",
       "      <th>AIR_TIME</th>\n",
       "      <th>DISTANCE</th>\n",
       "      <th>CARRIER_DELAY</th>\n",
       "      <th>WEATHER_DELAY</th>\n",
       "      <th>NAS_DELAY</th>\n",
       "      <th>SECURITY_DELAY</th>\n",
       "      <th>LATE_AIRCRAFT_DELAY</th>\n",
       "      <th>WHEELS_OFF_elapse</th>\n",
       "      <th>WHEELS_ON_elapse</th>\n",
       "    </tr>\n",
       "  </thead>\n",
       "  <tbody>\n",
       "    <tr>\n",
       "      <th>6</th>\n",
       "      <td>2009-01-01</td>\n",
       "      <td>XE</td>\n",
       "      <td>CLE</td>\n",
       "      <td>ATL</td>\n",
       "      <td>-8.0</td>\n",
       "      <td>12.0</td>\n",
       "      <td>5.0</td>\n",
       "      <td>-17.0</td>\n",
       "      <td>0</td>\n",
       "      <td>117</td>\n",
       "      <td>108.0</td>\n",
       "      <td>91.0</td>\n",
       "      <td>554</td>\n",
       "      <td>0.0</td>\n",
       "      <td>0.0</td>\n",
       "      <td>0.0</td>\n",
       "      <td>0.0</td>\n",
       "      <td>0.0</td>\n",
       "      <td>12.0</td>\n",
       "      <td>5.0</td>\n",
       "    </tr>\n",
       "    <tr>\n",
       "      <th>20</th>\n",
       "      <td>2009-01-01</td>\n",
       "      <td>XE</td>\n",
       "      <td>EWR</td>\n",
       "      <td>ATL</td>\n",
       "      <td>0.0</td>\n",
       "      <td>15.0</td>\n",
       "      <td>9.0</td>\n",
       "      <td>-12.0</td>\n",
       "      <td>0</td>\n",
       "      <td>161</td>\n",
       "      <td>149.0</td>\n",
       "      <td>125.0</td>\n",
       "      <td>745</td>\n",
       "      <td>0.0</td>\n",
       "      <td>0.0</td>\n",
       "      <td>0.0</td>\n",
       "      <td>0.0</td>\n",
       "      <td>0.0</td>\n",
       "      <td>15.0</td>\n",
       "      <td>9.0</td>\n",
       "    </tr>\n",
       "    <tr>\n",
       "      <th>151</th>\n",
       "      <td>2009-01-01</td>\n",
       "      <td>XE</td>\n",
       "      <td>IAH</td>\n",
       "      <td>ATL</td>\n",
       "      <td>-1.0</td>\n",
       "      <td>16.0</td>\n",
       "      <td>4.0</td>\n",
       "      <td>-4.0</td>\n",
       "      <td>0</td>\n",
       "      <td>123</td>\n",
       "      <td>120.0</td>\n",
       "      <td>100.0</td>\n",
       "      <td>689</td>\n",
       "      <td>0.0</td>\n",
       "      <td>0.0</td>\n",
       "      <td>0.0</td>\n",
       "      <td>0.0</td>\n",
       "      <td>0.0</td>\n",
       "      <td>16.0</td>\n",
       "      <td>4.0</td>\n",
       "    </tr>\n",
       "    <tr>\n",
       "      <th>308</th>\n",
       "      <td>2009-01-01</td>\n",
       "      <td>XE</td>\n",
       "      <td>CLE</td>\n",
       "      <td>ATL</td>\n",
       "      <td>-2.0</td>\n",
       "      <td>16.0</td>\n",
       "      <td>11.0</td>\n",
       "      <td>-8.0</td>\n",
       "      <td>0</td>\n",
       "      <td>118</td>\n",
       "      <td>112.0</td>\n",
       "      <td>85.0</td>\n",
       "      <td>554</td>\n",
       "      <td>0.0</td>\n",
       "      <td>0.0</td>\n",
       "      <td>0.0</td>\n",
       "      <td>0.0</td>\n",
       "      <td>0.0</td>\n",
       "      <td>16.0</td>\n",
       "      <td>11.0</td>\n",
       "    </tr>\n",
       "    <tr>\n",
       "      <th>562</th>\n",
       "      <td>2009-01-01</td>\n",
       "      <td>XE</td>\n",
       "      <td>IAH</td>\n",
       "      <td>ATL</td>\n",
       "      <td>18.0</td>\n",
       "      <td>16.0</td>\n",
       "      <td>5.0</td>\n",
       "      <td>6.0</td>\n",
       "      <td>0</td>\n",
       "      <td>120</td>\n",
       "      <td>108.0</td>\n",
       "      <td>87.0</td>\n",
       "      <td>689</td>\n",
       "      <td>0.0</td>\n",
       "      <td>0.0</td>\n",
       "      <td>0.0</td>\n",
       "      <td>0.0</td>\n",
       "      <td>0.0</td>\n",
       "      <td>16.0</td>\n",
       "      <td>5.0</td>\n",
       "    </tr>\n",
       "  </tbody>\n",
       "</table>\n",
       "</div>"
      ],
      "text/plain": [
       "       FL_DATE OP_CARRIER ORIGIN DEST  DEP_DELAY  TAXI_OUT  TAXI_IN  \\\n",
       "6   2009-01-01         XE    CLE  ATL       -8.0      12.0      5.0   \n",
       "20  2009-01-01         XE    EWR  ATL        0.0      15.0      9.0   \n",
       "151 2009-01-01         XE    IAH  ATL       -1.0      16.0      4.0   \n",
       "308 2009-01-01         XE    CLE  ATL       -2.0      16.0     11.0   \n",
       "562 2009-01-01         XE    IAH  ATL       18.0      16.0      5.0   \n",
       "\n",
       "     ARR_DELAY  DIVERTED  CRS_ELAPSED_TIME  ACTUAL_ELAPSED_TIME  AIR_TIME  \\\n",
       "6        -17.0         0               117                108.0      91.0   \n",
       "20       -12.0         0               161                149.0     125.0   \n",
       "151       -4.0         0               123                120.0     100.0   \n",
       "308       -8.0         0               118                112.0      85.0   \n",
       "562        6.0         0               120                108.0      87.0   \n",
       "\n",
       "     DISTANCE  CARRIER_DELAY  WEATHER_DELAY  NAS_DELAY  SECURITY_DELAY  \\\n",
       "6         554            0.0            0.0        0.0             0.0   \n",
       "20        745            0.0            0.0        0.0             0.0   \n",
       "151       689            0.0            0.0        0.0             0.0   \n",
       "308       554            0.0            0.0        0.0             0.0   \n",
       "562       689            0.0            0.0        0.0             0.0   \n",
       "\n",
       "     LATE_AIRCRAFT_DELAY  WHEELS_OFF_elapse  WHEELS_ON_elapse  \n",
       "6                    0.0               12.0               5.0  \n",
       "20                   0.0               15.0               9.0  \n",
       "151                  0.0               16.0               4.0  \n",
       "308                  0.0               16.0              11.0  \n",
       "562                  0.0               16.0               5.0  "
      ]
     },
     "execution_count": 36,
     "metadata": {},
     "output_type": "execute_result"
    }
   ],
   "source": [
    "boolean_series =  flight_data.DEST.isin(city_list)\n",
    "flight_data =  flight_data[boolean_series]\n",
    "flight_data.head()"
   ]
  },
  {
   "cell_type": "code",
   "execution_count": 37,
   "id": "4f35f507",
   "metadata": {},
   "outputs": [
    {
     "name": "stdout",
     "output_type": "stream",
     "text": [
      "<class 'pandas.core.frame.DataFrame'>\n",
      "Int64Index: 64003 entries, 6 to 1047646\n",
      "Data columns (total 20 columns):\n",
      " #   Column               Non-Null Count  Dtype         \n",
      "---  ------               --------------  -----         \n",
      " 0   FL_DATE              64003 non-null  datetime64[ns]\n",
      " 1   OP_CARRIER           64003 non-null  object        \n",
      " 2   ORIGIN               64003 non-null  object        \n",
      " 3   DEST                 64003 non-null  object        \n",
      " 4   DEP_DELAY            64003 non-null  float64       \n",
      " 5   TAXI_OUT             64003 non-null  float64       \n",
      " 6   TAXI_IN              64003 non-null  float64       \n",
      " 7   ARR_DELAY            64003 non-null  float64       \n",
      " 8   DIVERTED             64003 non-null  int64         \n",
      " 9   CRS_ELAPSED_TIME     64003 non-null  int64         \n",
      " 10  ACTUAL_ELAPSED_TIME  64003 non-null  float64       \n",
      " 11  AIR_TIME             64003 non-null  float64       \n",
      " 12  DISTANCE             64003 non-null  int64         \n",
      " 13  CARRIER_DELAY        64003 non-null  float64       \n",
      " 14  WEATHER_DELAY        64003 non-null  float64       \n",
      " 15  NAS_DELAY            64003 non-null  float64       \n",
      " 16  SECURITY_DELAY       64003 non-null  float64       \n",
      " 17  LATE_AIRCRAFT_DELAY  64003 non-null  float64       \n",
      " 18  WHEELS_OFF_elapse    64003 non-null  float64       \n",
      " 19  WHEELS_ON_elapse     64003 non-null  float64       \n",
      "dtypes: datetime64[ns](1), float64(13), int64(3), object(3)\n",
      "memory usage: 10.3+ MB\n"
     ]
    }
   ],
   "source": [
    "flight_data.info()\n"
   ]
  },
  {
   "cell_type": "markdown",
   "id": "f4e6ebdb",
   "metadata": {},
   "source": [
    "####Transformation for Date"
   ]
  },
  {
   "cell_type": "code",
   "execution_count": 38,
   "id": "8a7a85b4",
   "metadata": {},
   "outputs": [
    {
     "data": {
      "text/html": [
       "<div>\n",
       "<style scoped>\n",
       "    .dataframe tbody tr th:only-of-type {\n",
       "        vertical-align: middle;\n",
       "    }\n",
       "\n",
       "    .dataframe tbody tr th {\n",
       "        vertical-align: top;\n",
       "    }\n",
       "\n",
       "    .dataframe thead th {\n",
       "        text-align: right;\n",
       "    }\n",
       "</style>\n",
       "<table border=\"1\" class=\"dataframe\">\n",
       "  <thead>\n",
       "    <tr style=\"text-align: right;\">\n",
       "      <th></th>\n",
       "      <th>FL_DATE</th>\n",
       "      <th>OP_CARRIER</th>\n",
       "      <th>ORIGIN</th>\n",
       "      <th>DEST</th>\n",
       "      <th>DEP_DELAY</th>\n",
       "      <th>TAXI_OUT</th>\n",
       "      <th>TAXI_IN</th>\n",
       "      <th>ARR_DELAY</th>\n",
       "      <th>DIVERTED</th>\n",
       "      <th>CRS_ELAPSED_TIME</th>\n",
       "      <th>ACTUAL_ELAPSED_TIME</th>\n",
       "      <th>AIR_TIME</th>\n",
       "      <th>DISTANCE</th>\n",
       "      <th>CARRIER_DELAY</th>\n",
       "      <th>WEATHER_DELAY</th>\n",
       "      <th>NAS_DELAY</th>\n",
       "      <th>SECURITY_DELAY</th>\n",
       "      <th>LATE_AIRCRAFT_DELAY</th>\n",
       "      <th>WHEELS_OFF_elapse</th>\n",
       "      <th>WHEELS_ON_elapse</th>\n",
       "      <th>DAY</th>\n",
       "      <th>MONTH</th>\n",
       "      <th>MONTH_AB</th>\n",
       "      <th>DAYOFWEEK</th>\n",
       "      <th>DAYNAME</th>\n",
       "      <th>WEEKDAY</th>\n",
       "    </tr>\n",
       "  </thead>\n",
       "  <tbody>\n",
       "    <tr>\n",
       "      <th>6</th>\n",
       "      <td>2009-01-01</td>\n",
       "      <td>XE</td>\n",
       "      <td>CLE</td>\n",
       "      <td>ATL</td>\n",
       "      <td>-8.0</td>\n",
       "      <td>12.0</td>\n",
       "      <td>5.0</td>\n",
       "      <td>-17.0</td>\n",
       "      <td>0</td>\n",
       "      <td>117</td>\n",
       "      <td>108.0</td>\n",
       "      <td>91.0</td>\n",
       "      <td>554</td>\n",
       "      <td>0.0</td>\n",
       "      <td>0.0</td>\n",
       "      <td>0.0</td>\n",
       "      <td>0.0</td>\n",
       "      <td>0.0</td>\n",
       "      <td>12.0</td>\n",
       "      <td>5.0</td>\n",
       "      <td>1</td>\n",
       "      <td>1</td>\n",
       "      <td>Jan</td>\n",
       "      <td>3</td>\n",
       "      <td>Thursday</td>\n",
       "      <td>1</td>\n",
       "    </tr>\n",
       "    <tr>\n",
       "      <th>20</th>\n",
       "      <td>2009-01-01</td>\n",
       "      <td>XE</td>\n",
       "      <td>EWR</td>\n",
       "      <td>ATL</td>\n",
       "      <td>0.0</td>\n",
       "      <td>15.0</td>\n",
       "      <td>9.0</td>\n",
       "      <td>-12.0</td>\n",
       "      <td>0</td>\n",
       "      <td>161</td>\n",
       "      <td>149.0</td>\n",
       "      <td>125.0</td>\n",
       "      <td>745</td>\n",
       "      <td>0.0</td>\n",
       "      <td>0.0</td>\n",
       "      <td>0.0</td>\n",
       "      <td>0.0</td>\n",
       "      <td>0.0</td>\n",
       "      <td>15.0</td>\n",
       "      <td>9.0</td>\n",
       "      <td>1</td>\n",
       "      <td>1</td>\n",
       "      <td>Jan</td>\n",
       "      <td>3</td>\n",
       "      <td>Thursday</td>\n",
       "      <td>1</td>\n",
       "    </tr>\n",
       "  </tbody>\n",
       "</table>\n",
       "</div>"
      ],
      "text/plain": [
       "      FL_DATE OP_CARRIER ORIGIN DEST  DEP_DELAY  TAXI_OUT  TAXI_IN  ARR_DELAY  \\\n",
       "6  2009-01-01         XE    CLE  ATL       -8.0      12.0      5.0      -17.0   \n",
       "20 2009-01-01         XE    EWR  ATL        0.0      15.0      9.0      -12.0   \n",
       "\n",
       "    DIVERTED  CRS_ELAPSED_TIME  ACTUAL_ELAPSED_TIME  AIR_TIME  DISTANCE  \\\n",
       "6          0               117                108.0      91.0       554   \n",
       "20         0               161                149.0     125.0       745   \n",
       "\n",
       "    CARRIER_DELAY  WEATHER_DELAY  NAS_DELAY  SECURITY_DELAY  \\\n",
       "6             0.0            0.0        0.0             0.0   \n",
       "20            0.0            0.0        0.0             0.0   \n",
       "\n",
       "    LATE_AIRCRAFT_DELAY  WHEELS_OFF_elapse  WHEELS_ON_elapse  DAY  MONTH  \\\n",
       "6                   0.0               12.0               5.0    1      1   \n",
       "20                  0.0               15.0               9.0    1      1   \n",
       "\n",
       "   MONTH_AB  DAYOFWEEK   DAYNAME  WEEKDAY  \n",
       "6       Jan          3  Thursday        1  \n",
       "20      Jan          3  Thursday        1  "
      ]
     },
     "execution_count": 38,
     "metadata": {},
     "output_type": "execute_result"
    }
   ],
   "source": [
    "import calendar\n",
    "flight_date=pd.DatetimeIndex(flight_data['FL_DATE'])\n",
    "\n",
    "flight_data['DAY'] = flight_date.day\n",
    "flight_data['MONTH'] = flight_date.month\n",
    "flight_data['MONTH_AB'] = flight_data['MONTH'].apply(lambda x: calendar.month_abbr[x])\n",
    "flight_data['DAYOFWEEK'] = flight_date.dayofweek\n",
    "flight_data['DAYNAME'] = flight_data['DAYOFWEEK'].apply(lambda x: calendar.day_name[x])\n",
    "\n",
    "# 1 Weekday, 0 Weekend\n",
    "daytype = []\n",
    "for value in flight_data['DAYOFWEEK']:\n",
    "    if value in (0,1,2,3,4):\n",
    "        daytype.append(1) #weekday\n",
    "    else:\n",
    "        daytype.append(0) #weekend\n",
    "flight_data['WEEKDAY'] = daytype\n",
    "flight_data.head(2)"
   ]
  },
  {
   "cell_type": "code",
   "execution_count": 39,
   "id": "aa4e9de5",
   "metadata": {},
   "outputs": [
    {
     "name": "stdout",
     "output_type": "stream",
     "text": [
      "Maximum number of days in a month: 31\n",
      "Total number of months: 3\n",
      "Total number of days per week: 7\n",
      "\n",
      "Months present in dataframe: [1 2 3]\n",
      "Months present in dataframe: ['Jan' 'Feb' 'Mar']\n",
      "\n",
      "Days present in dataframe: [3 4 5 6 0 1 2]\n",
      "Days present in dataframe: ['Thursday' 'Friday' 'Saturday' 'Sunday' 'Monday' 'Tuesday' 'Wednesday']\n"
     ]
    }
   ],
   "source": [
    "# For checking\n",
    "print('Maximum number of days in a month:', flight_data.DAY.nunique())\n",
    "print('Total number of months:', flight_data.MONTH.nunique())\n",
    "print('Total number of days per week:', flight_data.DAYNAME.nunique())\n",
    "\n",
    "print()\n",
    "\n",
    "print('Months present in dataframe:',flight_data.MONTH.unique())\n",
    "print('Months present in dataframe:', flight_data.MONTH_AB.unique())\n",
    "\n",
    "print()\n",
    "print('Days present in dataframe:', flight_data['DAYOFWEEK'].unique())\n",
    "print('Days present in dataframe:', flight_data.DAYNAME.unique())"
   ]
  },
  {
   "cell_type": "markdown",
   "id": "61ce7004",
   "metadata": {},
   "source": [
    "####Rename of Airports and city name"
   ]
  },
  {
   "cell_type": "code",
   "execution_count": 40,
   "id": "a2e32479",
   "metadata": {},
   "outputs": [
    {
     "data": {
      "text/html": [
       "<div>\n",
       "<style scoped>\n",
       "    .dataframe tbody tr th:only-of-type {\n",
       "        vertical-align: middle;\n",
       "    }\n",
       "\n",
       "    .dataframe tbody tr th {\n",
       "        vertical-align: top;\n",
       "    }\n",
       "\n",
       "    .dataframe thead th {\n",
       "        text-align: right;\n",
       "    }\n",
       "</style>\n",
       "<table border=\"1\" class=\"dataframe\">\n",
       "  <thead>\n",
       "    <tr style=\"text-align: right;\">\n",
       "      <th></th>\n",
       "      <th>IATA_CODE</th>\n",
       "      <th>AIRPORT</th>\n",
       "      <th>CITY</th>\n",
       "    </tr>\n",
       "  </thead>\n",
       "  <tbody>\n",
       "    <tr>\n",
       "      <th>0</th>\n",
       "      <td>AZA</td>\n",
       "      <td>Phoenix-Mesa Gateway Airport</td>\n",
       "      <td>NaN</td>\n",
       "    </tr>\n",
       "    <tr>\n",
       "      <th>1</th>\n",
       "      <td>BKG</td>\n",
       "      <td>Branson Airport</td>\n",
       "      <td>NaN</td>\n",
       "    </tr>\n",
       "    <tr>\n",
       "      <th>2</th>\n",
       "      <td>ABE</td>\n",
       "      <td>Lehigh Valley International Airport</td>\n",
       "      <td>Allentown</td>\n",
       "    </tr>\n",
       "    <tr>\n",
       "      <th>3</th>\n",
       "      <td>ABI</td>\n",
       "      <td>Abilene Regional Airport</td>\n",
       "      <td>Abilene</td>\n",
       "    </tr>\n",
       "    <tr>\n",
       "      <th>4</th>\n",
       "      <td>ABQ</td>\n",
       "      <td>Albuquerque International Sunport</td>\n",
       "      <td>Albuquerque</td>\n",
       "    </tr>\n",
       "    <tr>\n",
       "      <th>5</th>\n",
       "      <td>ABR</td>\n",
       "      <td>Aberdeen Regional Airport</td>\n",
       "      <td>Aberdeen</td>\n",
       "    </tr>\n",
       "    <tr>\n",
       "      <th>6</th>\n",
       "      <td>ABY</td>\n",
       "      <td>Southwest Georgia Regional Airport</td>\n",
       "      <td>Albany</td>\n",
       "    </tr>\n",
       "    <tr>\n",
       "      <th>7</th>\n",
       "      <td>ACK</td>\n",
       "      <td>Nantucket Memorial Airport</td>\n",
       "      <td>Nantucket</td>\n",
       "    </tr>\n",
       "    <tr>\n",
       "      <th>8</th>\n",
       "      <td>ACT</td>\n",
       "      <td>Waco Regional Airport</td>\n",
       "      <td>Waco</td>\n",
       "    </tr>\n",
       "    <tr>\n",
       "      <th>9</th>\n",
       "      <td>ACV</td>\n",
       "      <td>Arcata Airport</td>\n",
       "      <td>Arcata/Eureka</td>\n",
       "    </tr>\n",
       "  </tbody>\n",
       "</table>\n",
       "</div>"
      ],
      "text/plain": [
       "  IATA_CODE                              AIRPORT           CITY\n",
       "0       AZA         Phoenix-Mesa Gateway Airport            NaN\n",
       "1       BKG                      Branson Airport            NaN\n",
       "2       ABE  Lehigh Valley International Airport      Allentown\n",
       "3       ABI             Abilene Regional Airport        Abilene\n",
       "4       ABQ    Albuquerque International Sunport    Albuquerque\n",
       "5       ABR            Aberdeen Regional Airport       Aberdeen\n",
       "6       ABY   Southwest Georgia Regional Airport         Albany\n",
       "7       ACK           Nantucket Memorial Airport      Nantucket\n",
       "8       ACT                Waco Regional Airport           Waco\n",
       "9       ACV                       Arcata Airport  Arcata/Eureka"
      ]
     },
     "execution_count": 40,
     "metadata": {},
     "output_type": "execute_result"
    }
   ],
   "source": [
    "airports = pd.read_csv(r\"C:\\\\Users\\\\shuchita\\\\Downloads\\\\airport.csv\",encoding='latin1')\n",
    "airports.head(10)"
   ]
  },
  {
   "cell_type": "code",
   "execution_count": 41,
   "id": "322a1d2f",
   "metadata": {},
   "outputs": [
    {
     "name": "stdout",
     "output_type": "stream",
     "text": [
      "There are 353 rows and 3 columns from the datasets\n"
     ]
    }
   ],
   "source": [
    "# Check dimension of dataset\n",
    "airports.shape\n",
    "print(\"There are \"+ str(airports.shape[0]) +\" rows and \"+ str(airports.shape[1]) +\" columns from the datasets\")"
   ]
  },
  {
   "cell_type": "code",
   "execution_count": 42,
   "id": "423a95b9",
   "metadata": {},
   "outputs": [
    {
     "name": "stdout",
     "output_type": "stream",
     "text": [
      "There are 353 records\n"
     ]
    }
   ],
   "source": [
    "print(\"There are \"+str(len(airports.IATA_CODE.unique()))+\" records\")"
   ]
  },
  {
   "cell_type": "code",
   "execution_count": 43,
   "id": "98bc48b6",
   "metadata": {},
   "outputs": [],
   "source": [
    "# Covert to list\n",
    "airport_IATA_CODE = list(airports['IATA_CODE'])"
   ]
  },
  {
   "cell_type": "code",
   "execution_count": 44,
   "id": "758956c0",
   "metadata": {},
   "outputs": [
    {
     "data": {
      "text/plain": [
       "array(['CLE', 'EWR', 'IAH', 'CLT', 'IAD', 'ORD', 'MDW', 'PIT', 'SDF',\n",
       "       'HSV', 'RIC', 'TYS', 'MKE', 'GSO', 'BNA', 'GSP', 'CVG', 'DTW',\n",
       "       'ORF', 'ASE', 'VPS', 'PHL', 'PHX', 'TLH', 'LIT', 'MEM', 'MGM',\n",
       "       'ILM', 'CRW', 'ALB', 'AVL', 'GPT', 'STL', 'ABE', 'PHF', 'OMA',\n",
       "       'JAN', 'DSM', 'FAY', 'GNV', 'LEX', 'DAY', 'LAW', 'FNT', 'SHV',\n",
       "       'BQK', 'VLD', 'CAK', 'BTR', 'TRI', 'FSM', 'AGS', 'SAT', 'DHN',\n",
       "       'BHM', 'MOB', 'OKC', 'PFN', 'DAB', 'MYR', 'ROC', 'SGF', 'PVD',\n",
       "       'BTV', 'OAJ', 'ICT', 'MLB', 'PWM', 'SRQ', 'MHT', 'TUL', 'CHA',\n",
       "       'SWF', 'HPN', 'AEX', 'CSG', 'XNA', 'MLI', 'ABY', 'LFT', 'EVV',\n",
       "       'MDT', 'CHS', 'GRK', 'MSN', 'PNS', 'ROA', 'FWA', 'ATW', 'MLU',\n",
       "       'SYR', 'CID', 'AVP', 'BMI', 'PIA', 'CHO', 'MEI', 'SBN', 'GTR',\n",
       "       'GRR', 'LYH', 'CAE', 'CMH', 'EYW', 'MCI', 'BWI', 'DEN', 'BOS',\n",
       "       'BUF', 'DCA', 'DFW', 'FLL', 'HOU', 'IND', 'JAX', 'LAS', 'LAX',\n",
       "       'LGA', 'MCO', 'MIA', 'MSP', 'MSY', 'PBI', 'RDU', 'RSW', 'SAN',\n",
       "       'SFO', 'SJU', 'TPA', 'AUS', 'SLC', 'JFK', 'STT', 'SMF', 'COS',\n",
       "       'SEA', 'JAC', 'BDL', 'SAV', 'BZN', 'TUS', 'RNO', 'HNL', 'ONT',\n",
       "       'EGE', 'PDX', 'ELP', 'SJC', 'ABQ', 'MTJ', 'SNA', 'HDN', 'EWN',\n",
       "       'FLO', 'GUC', 'STX'], dtype=object)"
      ]
     },
     "execution_count": 44,
     "metadata": {},
     "output_type": "execute_result"
    }
   ],
   "source": [
    "flight_data.ORIGIN.unique()"
   ]
  },
  {
   "cell_type": "code",
   "execution_count": 45,
   "id": "794eca76",
   "metadata": {},
   "outputs": [
    {
     "name": "stdout",
     "output_type": "stream",
     "text": [
      "Type:\n",
      "<class 'list'>\n",
      "<class 'list'>\n",
      "\n",
      "Length:\n",
      "Origin: 156\n",
      "Destination: 1\n"
     ]
    }
   ],
   "source": [
    "# Get the list of origin and destination from `flight_data` \n",
    "flight_ORIGIN = flight_data.ORIGIN.unique().tolist()\n",
    "flight_DEST = flight_data.DEST.unique().tolist()\n",
    "\n",
    "# Check type\n",
    "print(\"Type:\")\n",
    "print(type(flight_ORIGIN))\n",
    "print(type(flight_DEST))\n",
    "print()\n",
    "print(\"Length:\")\n",
    "print(\"Origin: \"+str(len(flight_ORIGIN)))\n",
    "print(\"Destination: \"+str(len(flight_DEST)))"
   ]
  },
  {
   "cell_type": "markdown",
   "id": "1e6fa45e",
   "metadata": {},
   "source": [
    "###Between flight_ORIGIN and airport_IATA_CODE"
   ]
  },
  {
   "cell_type": "code",
   "execution_count": 46,
   "id": "c4d395fc",
   "metadata": {},
   "outputs": [
    {
     "name": "stdout",
     "output_type": "stream",
     "text": [
      "IATA Code (Origin) that is not found from the airport data:\n",
      "['PFN']\n",
      "\n",
      "There are 1\n"
     ]
    }
   ],
   "source": [
    "difference = [item for item in flight_ORIGIN if item not in airport_IATA_CODE]\n",
    "print(\"IATA Code (Origin) that is not found from the airport data:\")\n",
    "print(difference)\n",
    "print()\n",
    "print(\"There are \"+str(len(difference)))"
   ]
  },
  {
   "cell_type": "markdown",
   "id": "5ece65c4",
   "metadata": {},
   "source": [
    "#####Between flight_DEST and airport_IATA_CODE"
   ]
  },
  {
   "cell_type": "code",
   "execution_count": 47,
   "id": "17b01d47",
   "metadata": {},
   "outputs": [
    {
     "name": "stdout",
     "output_type": "stream",
     "text": [
      "IATA Code (Destination) that is not found from airport data:\n",
      "[]\n",
      "\n"
     ]
    }
   ],
   "source": [
    "difference_2 = [item for item in flight_DEST if item not in airport_IATA_CODE]\n",
    "print(\"IATA Code (Destination) that is not found from airport data:\")\n",
    "print(difference_2)\n",
    "print()"
   ]
  },
  {
   "cell_type": "code",
   "execution_count": 48,
   "id": "62b0a21b",
   "metadata": {},
   "outputs": [
    {
     "name": "stdout",
     "output_type": "stream",
     "text": [
      "<class 'dict'>\n"
     ]
    }
   ],
   "source": [
    "# Creating a dictionary and looking at its type for QC purposes\n",
    "airport_dict = pd.Series(airports.AIRPORT.values, index=airports.IATA_CODE).to_dict()\n",
    "print(type(airport_dict))"
   ]
  },
  {
   "cell_type": "code",
   "execution_count": 49,
   "id": "84aaa746",
   "metadata": {},
   "outputs": [
    {
     "data": {
      "text/html": [
       "<div>\n",
       "<style scoped>\n",
       "    .dataframe tbody tr th:only-of-type {\n",
       "        vertical-align: middle;\n",
       "    }\n",
       "\n",
       "    .dataframe tbody tr th {\n",
       "        vertical-align: top;\n",
       "    }\n",
       "\n",
       "    .dataframe thead th {\n",
       "        text-align: right;\n",
       "    }\n",
       "</style>\n",
       "<table border=\"1\" class=\"dataframe\">\n",
       "  <thead>\n",
       "    <tr style=\"text-align: right;\">\n",
       "      <th></th>\n",
       "      <th>FL_DATE</th>\n",
       "      <th>OP_CARRIER</th>\n",
       "      <th>ORIGIN</th>\n",
       "      <th>DEST</th>\n",
       "      <th>DEP_DELAY</th>\n",
       "      <th>TAXI_OUT</th>\n",
       "      <th>TAXI_IN</th>\n",
       "      <th>ARR_DELAY</th>\n",
       "      <th>DIVERTED</th>\n",
       "      <th>CRS_ELAPSED_TIME</th>\n",
       "      <th>ACTUAL_ELAPSED_TIME</th>\n",
       "      <th>AIR_TIME</th>\n",
       "      <th>DISTANCE</th>\n",
       "      <th>CARRIER_DELAY</th>\n",
       "      <th>WEATHER_DELAY</th>\n",
       "      <th>NAS_DELAY</th>\n",
       "      <th>SECURITY_DELAY</th>\n",
       "      <th>LATE_AIRCRAFT_DELAY</th>\n",
       "      <th>WHEELS_OFF_elapse</th>\n",
       "      <th>WHEELS_ON_elapse</th>\n",
       "      <th>DAY</th>\n",
       "      <th>MONTH</th>\n",
       "      <th>MONTH_AB</th>\n",
       "      <th>DAYOFWEEK</th>\n",
       "      <th>DAYNAME</th>\n",
       "      <th>WEEKDAY</th>\n",
       "    </tr>\n",
       "  </thead>\n",
       "  <tbody>\n",
       "    <tr>\n",
       "      <th>6</th>\n",
       "      <td>2009-01-01</td>\n",
       "      <td>XE</td>\n",
       "      <td>Cleveland Hopkins International Airport</td>\n",
       "      <td>Hartsfield-Jackson Atlanta International Airport</td>\n",
       "      <td>-8.0</td>\n",
       "      <td>12.0</td>\n",
       "      <td>5.0</td>\n",
       "      <td>-17.0</td>\n",
       "      <td>0</td>\n",
       "      <td>117</td>\n",
       "      <td>108.0</td>\n",
       "      <td>91.0</td>\n",
       "      <td>554</td>\n",
       "      <td>0.0</td>\n",
       "      <td>0.0</td>\n",
       "      <td>0.0</td>\n",
       "      <td>0.0</td>\n",
       "      <td>0.0</td>\n",
       "      <td>12.0</td>\n",
       "      <td>5.0</td>\n",
       "      <td>1</td>\n",
       "      <td>1</td>\n",
       "      <td>Jan</td>\n",
       "      <td>3</td>\n",
       "      <td>Thursday</td>\n",
       "      <td>1</td>\n",
       "    </tr>\n",
       "    <tr>\n",
       "      <th>20</th>\n",
       "      <td>2009-01-01</td>\n",
       "      <td>XE</td>\n",
       "      <td>Newark Liberty International Airport</td>\n",
       "      <td>Hartsfield-Jackson Atlanta International Airport</td>\n",
       "      <td>0.0</td>\n",
       "      <td>15.0</td>\n",
       "      <td>9.0</td>\n",
       "      <td>-12.0</td>\n",
       "      <td>0</td>\n",
       "      <td>161</td>\n",
       "      <td>149.0</td>\n",
       "      <td>125.0</td>\n",
       "      <td>745</td>\n",
       "      <td>0.0</td>\n",
       "      <td>0.0</td>\n",
       "      <td>0.0</td>\n",
       "      <td>0.0</td>\n",
       "      <td>0.0</td>\n",
       "      <td>15.0</td>\n",
       "      <td>9.0</td>\n",
       "      <td>1</td>\n",
       "      <td>1</td>\n",
       "      <td>Jan</td>\n",
       "      <td>3</td>\n",
       "      <td>Thursday</td>\n",
       "      <td>1</td>\n",
       "    </tr>\n",
       "    <tr>\n",
       "      <th>151</th>\n",
       "      <td>2009-01-01</td>\n",
       "      <td>XE</td>\n",
       "      <td>George Bush Intercontinental Airport</td>\n",
       "      <td>Hartsfield-Jackson Atlanta International Airport</td>\n",
       "      <td>-1.0</td>\n",
       "      <td>16.0</td>\n",
       "      <td>4.0</td>\n",
       "      <td>-4.0</td>\n",
       "      <td>0</td>\n",
       "      <td>123</td>\n",
       "      <td>120.0</td>\n",
       "      <td>100.0</td>\n",
       "      <td>689</td>\n",
       "      <td>0.0</td>\n",
       "      <td>0.0</td>\n",
       "      <td>0.0</td>\n",
       "      <td>0.0</td>\n",
       "      <td>0.0</td>\n",
       "      <td>16.0</td>\n",
       "      <td>4.0</td>\n",
       "      <td>1</td>\n",
       "      <td>1</td>\n",
       "      <td>Jan</td>\n",
       "      <td>3</td>\n",
       "      <td>Thursday</td>\n",
       "      <td>1</td>\n",
       "    </tr>\n",
       "    <tr>\n",
       "      <th>308</th>\n",
       "      <td>2009-01-01</td>\n",
       "      <td>XE</td>\n",
       "      <td>Cleveland Hopkins International Airport</td>\n",
       "      <td>Hartsfield-Jackson Atlanta International Airport</td>\n",
       "      <td>-2.0</td>\n",
       "      <td>16.0</td>\n",
       "      <td>11.0</td>\n",
       "      <td>-8.0</td>\n",
       "      <td>0</td>\n",
       "      <td>118</td>\n",
       "      <td>112.0</td>\n",
       "      <td>85.0</td>\n",
       "      <td>554</td>\n",
       "      <td>0.0</td>\n",
       "      <td>0.0</td>\n",
       "      <td>0.0</td>\n",
       "      <td>0.0</td>\n",
       "      <td>0.0</td>\n",
       "      <td>16.0</td>\n",
       "      <td>11.0</td>\n",
       "      <td>1</td>\n",
       "      <td>1</td>\n",
       "      <td>Jan</td>\n",
       "      <td>3</td>\n",
       "      <td>Thursday</td>\n",
       "      <td>1</td>\n",
       "    </tr>\n",
       "    <tr>\n",
       "      <th>562</th>\n",
       "      <td>2009-01-01</td>\n",
       "      <td>XE</td>\n",
       "      <td>George Bush Intercontinental Airport</td>\n",
       "      <td>Hartsfield-Jackson Atlanta International Airport</td>\n",
       "      <td>18.0</td>\n",
       "      <td>16.0</td>\n",
       "      <td>5.0</td>\n",
       "      <td>6.0</td>\n",
       "      <td>0</td>\n",
       "      <td>120</td>\n",
       "      <td>108.0</td>\n",
       "      <td>87.0</td>\n",
       "      <td>689</td>\n",
       "      <td>0.0</td>\n",
       "      <td>0.0</td>\n",
       "      <td>0.0</td>\n",
       "      <td>0.0</td>\n",
       "      <td>0.0</td>\n",
       "      <td>16.0</td>\n",
       "      <td>5.0</td>\n",
       "      <td>1</td>\n",
       "      <td>1</td>\n",
       "      <td>Jan</td>\n",
       "      <td>3</td>\n",
       "      <td>Thursday</td>\n",
       "      <td>1</td>\n",
       "    </tr>\n",
       "  </tbody>\n",
       "</table>\n",
       "</div>"
      ],
      "text/plain": [
       "       FL_DATE OP_CARRIER                                   ORIGIN  \\\n",
       "6   2009-01-01         XE  Cleveland Hopkins International Airport   \n",
       "20  2009-01-01         XE     Newark Liberty International Airport   \n",
       "151 2009-01-01         XE     George Bush Intercontinental Airport   \n",
       "308 2009-01-01         XE  Cleveland Hopkins International Airport   \n",
       "562 2009-01-01         XE     George Bush Intercontinental Airport   \n",
       "\n",
       "                                                 DEST  DEP_DELAY  TAXI_OUT  \\\n",
       "6    Hartsfield-Jackson Atlanta International Airport       -8.0      12.0   \n",
       "20   Hartsfield-Jackson Atlanta International Airport        0.0      15.0   \n",
       "151  Hartsfield-Jackson Atlanta International Airport       -1.0      16.0   \n",
       "308  Hartsfield-Jackson Atlanta International Airport       -2.0      16.0   \n",
       "562  Hartsfield-Jackson Atlanta International Airport       18.0      16.0   \n",
       "\n",
       "     TAXI_IN  ARR_DELAY  DIVERTED  CRS_ELAPSED_TIME  ACTUAL_ELAPSED_TIME  \\\n",
       "6        5.0      -17.0         0               117                108.0   \n",
       "20       9.0      -12.0         0               161                149.0   \n",
       "151      4.0       -4.0         0               123                120.0   \n",
       "308     11.0       -8.0         0               118                112.0   \n",
       "562      5.0        6.0         0               120                108.0   \n",
       "\n",
       "     AIR_TIME  DISTANCE  CARRIER_DELAY  WEATHER_DELAY  NAS_DELAY  \\\n",
       "6        91.0       554            0.0            0.0        0.0   \n",
       "20      125.0       745            0.0            0.0        0.0   \n",
       "151     100.0       689            0.0            0.0        0.0   \n",
       "308      85.0       554            0.0            0.0        0.0   \n",
       "562      87.0       689            0.0            0.0        0.0   \n",
       "\n",
       "     SECURITY_DELAY  LATE_AIRCRAFT_DELAY  WHEELS_OFF_elapse  WHEELS_ON_elapse  \\\n",
       "6               0.0                  0.0               12.0               5.0   \n",
       "20              0.0                  0.0               15.0               9.0   \n",
       "151             0.0                  0.0               16.0               4.0   \n",
       "308             0.0                  0.0               16.0              11.0   \n",
       "562             0.0                  0.0               16.0               5.0   \n",
       "\n",
       "     DAY  MONTH MONTH_AB  DAYOFWEEK   DAYNAME  WEEKDAY  \n",
       "6      1      1      Jan          3  Thursday        1  \n",
       "20     1      1      Jan          3  Thursday        1  \n",
       "151    1      1      Jan          3  Thursday        1  \n",
       "308    1      1      Jan          3  Thursday        1  \n",
       "562    1      1      Jan          3  Thursday        1  "
      ]
     },
     "execution_count": 49,
     "metadata": {},
     "output_type": "execute_result"
    }
   ],
   "source": [
    "flight_data['ORIGIN'].replace(airport_dict, inplace=True)\n",
    "flight_data['DEST'].replace(airport_dict, inplace=True)\n",
    "flight_data.head()"
   ]
  },
  {
   "cell_type": "markdown",
   "id": "b7c1b59f",
   "metadata": {},
   "source": [
    "####Transformation of Target attribute: Flight status"
   ]
  },
  {
   "cell_type": "code",
   "execution_count": 50,
   "id": "bf42c8f6",
   "metadata": {},
   "outputs": [],
   "source": [
    "status = []\n",
    "\n",
    "for value in flight_data['ARR_DELAY']:\n",
    "    if value <= 15:\n",
    "        status.append(0)\n",
    "    else:\n",
    "        status.append(1)\n",
    "flight_data['FLIGHT_STATUS'] = status  "
   ]
  },
  {
   "cell_type": "markdown",
   "id": "697f5719",
   "metadata": {},
   "source": [
    "####Exploratory Data Analysis"
   ]
  },
  {
   "cell_type": "code",
   "execution_count": 51,
   "id": "54d9122d",
   "metadata": {},
   "outputs": [],
   "source": [
    "flight_category = flight_data.select_dtypes(include=['object','category'])\n",
    "flight_numerical = flight_data.select_dtypes(exclude=['object'])"
   ]
  },
  {
   "cell_type": "code",
   "execution_count": 52,
   "id": "ff10faaf",
   "metadata": {},
   "outputs": [
    {
     "data": {
      "text/plain": [
       "[Text(0.5, 0, 'Number of counts')]"
      ]
     },
     "execution_count": 52,
     "metadata": {},
     "output_type": "execute_result"
    },
    {
     "data": {
      "image/png": "[encoded data removed]",
      "text/plain": [
       "<Figure size 640x480 with 1 Axes>"
      ]
     },
     "metadata": {},
     "output_type": "display_data"
    }
   ],
   "source": [
    "# Output Barplot showing the occurence of flight outcome\n",
    "\n",
    "sns.set_context(\"notebook\")\n",
    "g=sns.countplot(x=\"FLIGHT_STATUS\",data=flight_data)\n",
    "g.set(xlabel=\"Number of counts\")"
   ]
  },
  {
   "cell_type": "code",
   "execution_count": 53,
   "id": "bbb02cb6",
   "metadata": {},
   "outputs": [
    {
     "data": {
      "text/plain": [
       "[Text(0.5, 0, 'Number of counts')]"
      ]
     },
     "execution_count": 53,
     "metadata": {},
     "output_type": "execute_result"
    },
    {
     "data": {
      "image/png": "[encoded data removed]",
      "text/plain": [
       "<Figure size 640x480 with 1 Axes>"
      ]
     },
     "metadata": {},
     "output_type": "display_data"
    }
   ],
   "source": [
    "# Output Barplot showing the occurence of each categorical features         \n",
    "\n",
    "sns.set_context(\"notebook\")\n",
    "g=sns.countplot(y=\"OP_CARRIER\",data=flight_category)\n",
    "g.set(xlabel=\"Number of counts\")"
   ]
  },
  {
   "cell_type": "code",
   "execution_count": 54,
   "id": "91362fb0",
   "metadata": {},
   "outputs": [
    {
     "data": {
      "text/plain": [
       "[Text(0.5, 0, 'Number of counts')]"
      ]
     },
     "execution_count": 54,
     "metadata": {},
     "output_type": "execute_result"
    },
    {
     "data": {
      "image/png": "[encoded data removed]",
      "text/plain": [
       "<Figure size 640x480 with 1 Axes>"
      ]
     },
     "metadata": {},
     "output_type": "display_data"
    }
   ],
   "source": [
    "# Output Barplot showing the occurence of each categorical features         \n",
    "\n",
    "sns.set_context(\"notebook\")\n",
    "g=sns.countplot(y=\"DEST\",data=flight_category)\n",
    "g.set(xlabel=\"Number of counts\")"
   ]
  },
  {
   "cell_type": "code",
   "execution_count": 55,
   "id": "ff4c2e6e",
   "metadata": {},
   "outputs": [
    {
     "data": {
      "image/png": "[encoded data removed]",
      "text/plain": [
       "<Figure size 1200x1200 with 2 Axes>"
      ]
     },
     "metadata": {},
     "output_type": "display_data"
    }
   ],
   "source": [
    "# Finding categorical features\n",
    "\n",
    "category = []\n",
    "for i in flight_category:\n",
    "    if i in [\"ORIGIN\",\"DEST\",\"OP_CARRIER\",\"FLIGHT_STATUS\"]:\n",
    "        pass\n",
    "    else:\n",
    "        category.append(i)\n",
    "        \n",
    "# Output Barplot showing the occurence of each categorical features         \n",
    "fig, ax = plt.subplots(ncols=2, figsize=(12,12))\n",
    "plt.subplots_adjust(right=2)\n",
    "plt.subplots_adjust(top=2.5)\n",
    "sns.color_palette(\"husl\", 8)\n",
    "sns.set_context(\"poster\")\n",
    "\n",
    "#ncols=2,nrows=round(len(list(category))/2)\n",
    "\n",
    "for i, feature in enumerate(list(flight_category[category]), 1):\n",
    "    plt.subplot(len(list(category)), 2, i)\n",
    "    g=sns.countplot(x=feature,data=flight_category)\n",
    "    g.set(ylabel=\"Number of counts\")\n",
    "    plt.xticks(rotation=45)\n",
    "   \n",
    "plt.show()\n"
   ]
  },
  {
   "cell_type": "markdown",
   "id": "19dd0aae",
   "metadata": {},
   "source": [
    "####Classification Modelling"
   ]
  },
  {
   "cell_type": "code",
   "execution_count": 56,
   "id": "a14355a8",
   "metadata": {},
   "outputs": [],
   "source": [
    "Carrier = pd.get_dummies(flight_data['OP_CARRIER'],prefix=\"OP_CARRIER\",drop_first=False)\n",
    "#Destination = pd.get_dummies(flight_data['DEST'],drop_first=False)\n",
    "#Destination.columns = ['Charlotte_Airport','Chicago_Airport','Dallas_Airpot','Denver_Airport','Dentroit_Airport','GELL_Airpot','George_Aiport','Hartsfield_Airport','JohnFKeenedy_Airpot','LaGuardia_Airport','LosAngelas_Airport','McCarran_Airport','MSP_Airport','NL_Airport','Orlando_Airport','Philadelphia_Airport','Phoenix_Airport','Ronald_Airport','SanFrancisco_Airport','Seattle_Aiport']                  \n",
    "month= pd.get_dummies(flight_data['MONTH_AB'],prefix=\"MONTH\",drop_first=False)\n",
    "day= pd.get_dummies(flight_data['DAYNAME'],prefix=\"DAY\",drop_first=False)\n",
    "\n",
    "#flight_data_new=pd.concat([flight_data,Carrier,Destination,month,day],axis=1)\n",
    "flight_data_new=pd.concat([flight_data,Carrier,month,day],axis=1)"
   ]
  },
  {
   "cell_type": "code",
   "execution_count": 57,
   "id": "e8f80e89",
   "metadata": {},
   "outputs": [
    {
     "data": {
      "text/html": [
       "<div>\n",
       "<style scoped>\n",
       "    .dataframe tbody tr th:only-of-type {\n",
       "        vertical-align: middle;\n",
       "    }\n",
       "\n",
       "    .dataframe tbody tr th {\n",
       "        vertical-align: top;\n",
       "    }\n",
       "\n",
       "    .dataframe thead th {\n",
       "        text-align: right;\n",
       "    }\n",
       "</style>\n",
       "<table border=\"1\" class=\"dataframe\">\n",
       "  <thead>\n",
       "    <tr style=\"text-align: right;\">\n",
       "      <th></th>\n",
       "      <th>FL_DATE</th>\n",
       "      <th>OP_CARRIER</th>\n",
       "      <th>ORIGIN</th>\n",
       "      <th>DEST</th>\n",
       "      <th>DEP_DELAY</th>\n",
       "      <th>TAXI_OUT</th>\n",
       "      <th>TAXI_IN</th>\n",
       "      <th>ARR_DELAY</th>\n",
       "      <th>DIVERTED</th>\n",
       "      <th>CRS_ELAPSED_TIME</th>\n",
       "      <th>ACTUAL_ELAPSED_TIME</th>\n",
       "      <th>AIR_TIME</th>\n",
       "      <th>DISTANCE</th>\n",
       "      <th>CARRIER_DELAY</th>\n",
       "      <th>WEATHER_DELAY</th>\n",
       "      <th>NAS_DELAY</th>\n",
       "      <th>SECURITY_DELAY</th>\n",
       "      <th>LATE_AIRCRAFT_DELAY</th>\n",
       "      <th>WHEELS_OFF_elapse</th>\n",
       "      <th>WHEELS_ON_elapse</th>\n",
       "      <th>DAY</th>\n",
       "      <th>MONTH</th>\n",
       "      <th>MONTH_AB</th>\n",
       "      <th>DAYOFWEEK</th>\n",
       "      <th>DAYNAME</th>\n",
       "      <th>WEEKDAY</th>\n",
       "      <th>FLIGHT_STATUS</th>\n",
       "      <th>OP_CARRIER_American Airlines</th>\n",
       "      <th>OP_CARRIER_CO</th>\n",
       "      <th>OP_CARRIER_Delta Airlines</th>\n",
       "      <th>OP_CARRIER_Endeavor Air</th>\n",
       "      <th>OP_CARRIER_Envoy Air</th>\n",
       "      <th>OP_CARRIER_ExpressJet</th>\n",
       "      <th>OP_CARRIER_FL</th>\n",
       "      <th>OP_CARRIER_Frontier Airlines</th>\n",
       "      <th>OP_CARRIER_Mesa Airline</th>\n",
       "      <th>OP_CARRIER_NW</th>\n",
       "      <th>OP_CARRIER_PSA Airlines</th>\n",
       "      <th>OP_CARRIER_SkyWest Airlines</th>\n",
       "      <th>OP_CARRIER_US</th>\n",
       "      <th>OP_CARRIER_United Airlines</th>\n",
       "      <th>OP_CARRIER_XE</th>\n",
       "      <th>MONTH_Feb</th>\n",
       "      <th>MONTH_Jan</th>\n",
       "      <th>MONTH_Mar</th>\n",
       "      <th>DAY_Friday</th>\n",
       "      <th>DAY_Monday</th>\n",
       "      <th>DAY_Saturday</th>\n",
       "      <th>DAY_Sunday</th>\n",
       "      <th>DAY_Thursday</th>\n",
       "      <th>DAY_Tuesday</th>\n",
       "      <th>DAY_Wednesday</th>\n",
       "    </tr>\n",
       "  </thead>\n",
       "  <tbody>\n",
       "    <tr>\n",
       "      <th>6</th>\n",
       "      <td>2009-01-01</td>\n",
       "      <td>XE</td>\n",
       "      <td>Cleveland Hopkins International Airport</td>\n",
       "      <td>Hartsfield-Jackson Atlanta International Airport</td>\n",
       "      <td>-8.0</td>\n",
       "      <td>12.0</td>\n",
       "      <td>5.0</td>\n",
       "      <td>-17.0</td>\n",
       "      <td>0</td>\n",
       "      <td>117</td>\n",
       "      <td>108.0</td>\n",
       "      <td>91.0</td>\n",
       "      <td>554</td>\n",
       "      <td>0.0</td>\n",
       "      <td>0.0</td>\n",
       "      <td>0.0</td>\n",
       "      <td>0.0</td>\n",
       "      <td>0.0</td>\n",
       "      <td>12.0</td>\n",
       "      <td>5.0</td>\n",
       "      <td>1</td>\n",
       "      <td>1</td>\n",
       "      <td>Jan</td>\n",
       "      <td>3</td>\n",
       "      <td>Thursday</td>\n",
       "      <td>1</td>\n",
       "      <td>0</td>\n",
       "      <td>0</td>\n",
       "      <td>0</td>\n",
       "      <td>0</td>\n",
       "      <td>0</td>\n",
       "      <td>0</td>\n",
       "      <td>0</td>\n",
       "      <td>0</td>\n",
       "      <td>0</td>\n",
       "      <td>0</td>\n",
       "      <td>0</td>\n",
       "      <td>0</td>\n",
       "      <td>0</td>\n",
       "      <td>0</td>\n",
       "      <td>0</td>\n",
       "      <td>1</td>\n",
       "      <td>0</td>\n",
       "      <td>1</td>\n",
       "      <td>0</td>\n",
       "      <td>0</td>\n",
       "      <td>0</td>\n",
       "      <td>0</td>\n",
       "      <td>0</td>\n",
       "      <td>1</td>\n",
       "      <td>0</td>\n",
       "      <td>0</td>\n",
       "    </tr>\n",
       "    <tr>\n",
       "      <th>20</th>\n",
       "      <td>2009-01-01</td>\n",
       "      <td>XE</td>\n",
       "      <td>Newark Liberty International Airport</td>\n",
       "      <td>Hartsfield-Jackson Atlanta International Airport</td>\n",
       "      <td>0.0</td>\n",
       "      <td>15.0</td>\n",
       "      <td>9.0</td>\n",
       "      <td>-12.0</td>\n",
       "      <td>0</td>\n",
       "      <td>161</td>\n",
       "      <td>149.0</td>\n",
       "      <td>125.0</td>\n",
       "      <td>745</td>\n",
       "      <td>0.0</td>\n",
       "      <td>0.0</td>\n",
       "      <td>0.0</td>\n",
       "      <td>0.0</td>\n",
       "      <td>0.0</td>\n",
       "      <td>15.0</td>\n",
       "      <td>9.0</td>\n",
       "      <td>1</td>\n",
       "      <td>1</td>\n",
       "      <td>Jan</td>\n",
       "      <td>3</td>\n",
       "      <td>Thursday</td>\n",
       "      <td>1</td>\n",
       "      <td>0</td>\n",
       "      <td>0</td>\n",
       "      <td>0</td>\n",
       "      <td>0</td>\n",
       "      <td>0</td>\n",
       "      <td>0</td>\n",
       "      <td>0</td>\n",
       "      <td>0</td>\n",
       "      <td>0</td>\n",
       "      <td>0</td>\n",
       "      <td>0</td>\n",
       "      <td>0</td>\n",
       "      <td>0</td>\n",
       "      <td>0</td>\n",
       "      <td>0</td>\n",
       "      <td>1</td>\n",
       "      <td>0</td>\n",
       "      <td>1</td>\n",
       "      <td>0</td>\n",
       "      <td>0</td>\n",
       "      <td>0</td>\n",
       "      <td>0</td>\n",
       "      <td>0</td>\n",
       "      <td>1</td>\n",
       "      <td>0</td>\n",
       "      <td>0</td>\n",
       "    </tr>\n",
       "  </tbody>\n",
       "</table>\n",
       "</div>"
      ],
      "text/plain": [
       "      FL_DATE OP_CARRIER                                   ORIGIN  \\\n",
       "6  2009-01-01         XE  Cleveland Hopkins International Airport   \n",
       "20 2009-01-01         XE     Newark Liberty International Airport   \n",
       "\n",
       "                                                DEST  DEP_DELAY  TAXI_OUT  \\\n",
       "6   Hartsfield-Jackson Atlanta International Airport       -8.0      12.0   \n",
       "20  Hartsfield-Jackson Atlanta International Airport        0.0      15.0   \n",
       "\n",
       "    TAXI_IN  ARR_DELAY  DIVERTED  CRS_ELAPSED_TIME  ACTUAL_ELAPSED_TIME  \\\n",
       "6       5.0      -17.0         0               117                108.0   \n",
       "20      9.0      -12.0         0               161                149.0   \n",
       "\n",
       "    AIR_TIME  DISTANCE  CARRIER_DELAY  WEATHER_DELAY  NAS_DELAY  \\\n",
       "6       91.0       554            0.0            0.0        0.0   \n",
       "20     125.0       745            0.0            0.0        0.0   \n",
       "\n",
       "    SECURITY_DELAY  LATE_AIRCRAFT_DELAY  WHEELS_OFF_elapse  WHEELS_ON_elapse  \\\n",
       "6              0.0                  0.0               12.0               5.0   \n",
       "20             0.0                  0.0               15.0               9.0   \n",
       "\n",
       "    DAY  MONTH MONTH_AB  DAYOFWEEK   DAYNAME  WEEKDAY  FLIGHT_STATUS  \\\n",
       "6     1      1      Jan          3  Thursday        1              0   \n",
       "20    1      1      Jan          3  Thursday        1              0   \n",
       "\n",
       "    OP_CARRIER_American Airlines  OP_CARRIER_CO  OP_CARRIER_Delta Airlines  \\\n",
       "6                              0              0                          0   \n",
       "20                             0              0                          0   \n",
       "\n",
       "    OP_CARRIER_Endeavor Air  OP_CARRIER_Envoy Air  OP_CARRIER_ExpressJet  \\\n",
       "6                         0                     0                      0   \n",
       "20                        0                     0                      0   \n",
       "\n",
       "    OP_CARRIER_FL  OP_CARRIER_Frontier Airlines  OP_CARRIER_Mesa Airline  \\\n",
       "6               0                             0                        0   \n",
       "20              0                             0                        0   \n",
       "\n",
       "    OP_CARRIER_NW  OP_CARRIER_PSA Airlines  OP_CARRIER_SkyWest Airlines  \\\n",
       "6               0                        0                            0   \n",
       "20              0                        0                            0   \n",
       "\n",
       "    OP_CARRIER_US  OP_CARRIER_United Airlines  OP_CARRIER_XE  MONTH_Feb  \\\n",
       "6               0                           0              1          0   \n",
       "20              0                           0              1          0   \n",
       "\n",
       "    MONTH_Jan  MONTH_Mar  DAY_Friday  DAY_Monday  DAY_Saturday  DAY_Sunday  \\\n",
       "6           1          0           0           0             0           0   \n",
       "20          1          0           0           0             0           0   \n",
       "\n",
       "    DAY_Thursday  DAY_Tuesday  DAY_Wednesday  \n",
       "6              1            0              0  \n",
       "20             1            0              0  "
      ]
     },
     "execution_count": 57,
     "metadata": {},
     "output_type": "execute_result"
    }
   ],
   "source": [
    "flight_data_new.head(2)"
   ]
  },
  {
   "cell_type": "code",
   "execution_count": 58,
   "id": "8fa2bec5",
   "metadata": {},
   "outputs": [],
   "source": [
    "# Drop the redundant columns \n",
    "\n",
    "flight_data_new.drop(['FL_DATE', \n",
    "                      'OP_CARRIER',\n",
    "                      'ORIGIN',\n",
    "                      'DEST',\n",
    "                      'DAYOFWEEK',\n",
    "                      'MONTH',\n",
    "                      'MONTH_AB',\n",
    "                      'DAY',\n",
    "                      'DAYNAME',\n",
    "                      'WEEKDAY',\n",
    "                      'ARR_DELAY',\n",
    "                      'CARRIER_DELAY',\n",
    "                      'WEATHER_DELAY',\n",
    "                      'NAS_DELAY',\n",
    "                      'SECURITY_DELAY',\n",
    "                      'LATE_AIRCRAFT_DELAY'\n",
    "                 ],\n",
    "                 axis = 1, inplace = True)"
   ]
  },
  {
   "cell_type": "code",
   "execution_count": 59,
   "id": "0ba98c25",
   "metadata": {},
   "outputs": [
    {
     "name": "stdout",
     "output_type": "stream",
     "text": [
      "<class 'pandas.core.frame.DataFrame'>\n",
      "Int64Index: 64003 entries, 6 to 1047646\n",
      "Data columns (total 36 columns):\n",
      " #   Column                        Non-Null Count  Dtype  \n",
      "---  ------                        --------------  -----  \n",
      " 0   DEP_DELAY                     64003 non-null  float64\n",
      " 1   TAXI_OUT                      64003 non-null  float64\n",
      " 2   TAXI_IN                       64003 non-null  float64\n",
      " 3   DIVERTED                      64003 non-null  int64  \n",
      " 4   CRS_ELAPSED_TIME              64003 non-null  int64  \n",
      " 5   ACTUAL_ELAPSED_TIME           64003 non-null  float64\n",
      " 6   AIR_TIME                      64003 non-null  float64\n",
      " 7   DISTANCE                      64003 non-null  int64  \n",
      " 8   WHEELS_OFF_elapse             64003 non-null  float64\n",
      " 9   WHEELS_ON_elapse              64003 non-null  float64\n",
      " 10  FLIGHT_STATUS                 64003 non-null  int64  \n",
      " 11  OP_CARRIER_American Airlines  64003 non-null  uint8  \n",
      " 12  OP_CARRIER_CO                 64003 non-null  uint8  \n",
      " 13  OP_CARRIER_Delta Airlines     64003 non-null  uint8  \n",
      " 14  OP_CARRIER_Endeavor Air       64003 non-null  uint8  \n",
      " 15  OP_CARRIER_Envoy Air          64003 non-null  uint8  \n",
      " 16  OP_CARRIER_ExpressJet         64003 non-null  uint8  \n",
      " 17  OP_CARRIER_FL                 64003 non-null  uint8  \n",
      " 18  OP_CARRIER_Frontier Airlines  64003 non-null  uint8  \n",
      " 19  OP_CARRIER_Mesa Airline       64003 non-null  uint8  \n",
      " 20  OP_CARRIER_NW                 64003 non-null  uint8  \n",
      " 21  OP_CARRIER_PSA Airlines       64003 non-null  uint8  \n",
      " 22  OP_CARRIER_SkyWest Airlines   64003 non-null  uint8  \n",
      " 23  OP_CARRIER_US                 64003 non-null  uint8  \n",
      " 24  OP_CARRIER_United Airlines    64003 non-null  uint8  \n",
      " 25  OP_CARRIER_XE                 64003 non-null  uint8  \n",
      " 26  MONTH_Feb                     64003 non-null  uint8  \n",
      " 27  MONTH_Jan                     64003 non-null  uint8  \n",
      " 28  MONTH_Mar                     64003 non-null  uint8  \n",
      " 29  DAY_Friday                    64003 non-null  uint8  \n",
      " 30  DAY_Monday                    64003 non-null  uint8  \n",
      " 31  DAY_Saturday                  64003 non-null  uint8  \n",
      " 32  DAY_Sunday                    64003 non-null  uint8  \n",
      " 33  DAY_Thursday                  64003 non-null  uint8  \n",
      " 34  DAY_Tuesday                   64003 non-null  uint8  \n",
      " 35  DAY_Wednesday                 64003 non-null  uint8  \n",
      "dtypes: float64(7), int64(4), uint8(25)\n",
      "memory usage: 7.4 MB\n"
     ]
    }
   ],
   "source": [
    "flight_data_new.info()"
   ]
  },
  {
   "cell_type": "code",
   "execution_count": 60,
   "id": "8f281331",
   "metadata": {},
   "outputs": [
    {
     "name": "stdout",
     "output_type": "stream",
     "text": [
      "Requirement already satisfied: feature-engine in c:\\users\\shuchita\\anaconda3\\lib\\site-packages (1.6.1)\n",
      "Requirement already satisfied: statsmodels>=0.11.1 in c:\\users\\shuchita\\anaconda3\\lib\\site-packages (from feature-engine) (0.13.2)\n",
      "Requirement already satisfied: scipy>=1.4.1 in c:\\users\\shuchita\\anaconda3\\lib\\site-packages (from feature-engine) (1.9.1)\n",
      "Requirement already satisfied: numpy>=1.18.2 in c:\\users\\shuchita\\anaconda3\\lib\\site-packages (from feature-engine) (1.21.5)\n",
      "Requirement already satisfied: pandas>=1.0.3 in c:\\users\\shuchita\\anaconda3\\lib\\site-packages (from feature-engine) (1.4.4)\n",
      "Requirement already satisfied: scikit-learn>=1.0.0 in c:\\users\\shuchita\\anaconda3\\lib\\site-packages (from feature-engine) (1.0.2)\n",
      "Requirement already satisfied: python-dateutil>=2.8.1 in c:\\users\\shuchita\\anaconda3\\lib\\site-packages (from pandas>=1.0.3->feature-engine) (2.8.2)\n",
      "Requirement already satisfied: pytz>=2020.1 in c:\\users\\shuchita\\anaconda3\\lib\\site-packages (from pandas>=1.0.3->feature-engine) (2022.1)\n",
      "Requirement already satisfied: joblib>=0.11 in c:\\users\\shuchita\\anaconda3\\lib\\site-packages (from scikit-learn>=1.0.0->feature-engine) (1.1.0)\n",
      "Requirement already satisfied: threadpoolctl>=2.0.0 in c:\\users\\shuchita\\anaconda3\\lib\\site-packages (from scikit-learn>=1.0.0->feature-engine) (2.2.0)\n",
      "Requirement already satisfied: patsy>=0.5.2 in c:\\users\\shuchita\\anaconda3\\lib\\site-packages (from statsmodels>=0.11.1->feature-engine) (0.5.2)\n",
      "Requirement already satisfied: packaging>=21.3 in c:\\users\\shuchita\\anaconda3\\lib\\site-packages (from statsmodels>=0.11.1->feature-engine) (21.3)\n",
      "Requirement already satisfied: pyparsing!=3.0.5,>=2.0.2 in c:\\users\\shuchita\\anaconda3\\lib\\site-packages (from packaging>=21.3->statsmodels>=0.11.1->feature-engine) (3.0.9)\n",
      "Requirement already satisfied: six in c:\\users\\shuchita\\anaconda3\\lib\\site-packages (from patsy>=0.5.2->statsmodels>=0.11.1->feature-engine) (1.16.0)\n",
      "Note: you may need to restart the kernel to use updated packages.\n"
     ]
    }
   ],
   "source": [
    "pip install feature-engine"
   ]
  },
  {
   "cell_type": "code",
   "execution_count": 61,
   "id": "7f13ec44",
   "metadata": {},
   "outputs": [],
   "source": [
    "from sklearn.model_selection import train_test_split\n",
    "from feature_engine.selection import DropConstantFeatures"
   ]
  },
  {
   "cell_type": "code",
   "execution_count": 62,
   "id": "f08d3a68",
   "metadata": {},
   "outputs": [
    {
     "data": {
      "text/plain": [
       "((51202, 35), (12801, 35))"
      ]
     },
     "execution_count": 62,
     "metadata": {},
     "output_type": "execute_result"
    }
   ],
   "source": [
    "# separate train and test (again, as we transformed the previous ones)\n",
    "\n",
    "X_train, X_test, y_train, y_test = train_test_split(\n",
    "    flight_data_new.drop(labels=['FLIGHT_STATUS'], axis=1),\n",
    "    flight_data_new['FLIGHT_STATUS'],\n",
    "    test_size=0.2,\n",
    "    random_state=100)\n",
    "\n",
    "X_train.shape, X_test.shape"
   ]
  },
  {
   "cell_type": "code",
   "execution_count": 63,
   "id": "244e0c99",
   "metadata": {},
   "outputs": [
    {
     "data": {
      "text/plain": [
       "DropConstantFeatures()"
      ]
     },
     "execution_count": 63,
     "metadata": {},
     "output_type": "execute_result"
    }
   ],
   "source": [
    "sel = DropConstantFeatures(tol=1, variables=None, missing_values='raise')\n",
    "sel.fit(X_train)"
   ]
  },
  {
   "cell_type": "code",
   "execution_count": 64,
   "id": "32f9d683",
   "metadata": {},
   "outputs": [
    {
     "data": {
      "text/plain": [
       "1"
      ]
     },
     "execution_count": 64,
     "metadata": {},
     "output_type": "execute_result"
    }
   ],
   "source": [
    "# number of quasi-constant features\n",
    "\n",
    "len(sel.features_to_drop_)"
   ]
  },
  {
   "cell_type": "code",
   "execution_count": 65,
   "id": "02a55aa7",
   "metadata": {},
   "outputs": [
    {
     "data": {
      "text/plain": [
       "['DIVERTED']"
      ]
     },
     "execution_count": 65,
     "metadata": {},
     "output_type": "execute_result"
    }
   ],
   "source": [
    "sel.features_to_drop_"
   ]
  },
  {
   "cell_type": "code",
   "execution_count": 66,
   "id": "c5c3aea0",
   "metadata": {},
   "outputs": [],
   "source": [
    "# Drop the redundant columns \n",
    "flight_data_new.drop(['DIVERTED'], axis = 1, inplace = True)"
   ]
  },
  {
   "cell_type": "code",
   "execution_count": 67,
   "id": "66a0148b",
   "metadata": {},
   "outputs": [
    {
     "data": {
      "text/plain": [
       "((51202, 34), (12801, 34))"
      ]
     },
     "execution_count": 67,
     "metadata": {},
     "output_type": "execute_result"
    }
   ],
   "source": [
    "#remove the constant features\n",
    "\n",
    "X_train = sel.transform(X_train)\n",
    "X_test = sel.transform(X_test)\n",
    "\n",
    "X_train.shape, X_test.shape"
   ]
  },
  {
   "cell_type": "code",
   "execution_count": 68,
   "id": "0fc0742d",
   "metadata": {},
   "outputs": [],
   "source": [
    "# build a dataframe with the correlation between features\n",
    "# remember that the absolute value of the correlation\n",
    "# coefficient is important and not the sign\n",
    "\n",
    "corrmat = X_train.corr()\n",
    "corrmat = corrmat.abs().unstack() # absolute value of corr coef\n",
    "corrmat = corrmat.sort_values(ascending=False)\n",
    "corrmat = corrmat[corrmat >= 0.8]\n",
    "corrmat = corrmat[corrmat < 1]\n",
    "corrmat = pd.DataFrame(corrmat).reset_index()\n",
    "corrmat.columns = ['feature1', 'feature2', 'corr']"
   ]
  },
  {
   "cell_type": "code",
   "execution_count": 69,
   "id": "cfc62fb3",
   "metadata": {},
   "outputs": [
    {
     "data": {
      "text/html": [
       "<div>\n",
       "<style scoped>\n",
       "    .dataframe tbody tr th:only-of-type {\n",
       "        vertical-align: middle;\n",
       "    }\n",
       "\n",
       "    .dataframe tbody tr th {\n",
       "        vertical-align: top;\n",
       "    }\n",
       "\n",
       "    .dataframe thead th {\n",
       "        text-align: right;\n",
       "    }\n",
       "</style>\n",
       "<table border=\"1\" class=\"dataframe\">\n",
       "  <thead>\n",
       "    <tr style=\"text-align: right;\">\n",
       "      <th></th>\n",
       "      <th>feature1</th>\n",
       "      <th>feature2</th>\n",
       "      <th>corr</th>\n",
       "    </tr>\n",
       "  </thead>\n",
       "  <tbody>\n",
       "    <tr>\n",
       "      <th>0</th>\n",
       "      <td>CRS_ELAPSED_TIME</td>\n",
       "      <td>AIR_TIME</td>\n",
       "      <td>0.976137</td>\n",
       "    </tr>\n",
       "    <tr>\n",
       "      <th>1</th>\n",
       "      <td>AIR_TIME</td>\n",
       "      <td>CRS_ELAPSED_TIME</td>\n",
       "      <td>0.976137</td>\n",
       "    </tr>\n",
       "    <tr>\n",
       "      <th>2</th>\n",
       "      <td>DISTANCE</td>\n",
       "      <td>AIR_TIME</td>\n",
       "      <td>0.968405</td>\n",
       "    </tr>\n",
       "    <tr>\n",
       "      <th>3</th>\n",
       "      <td>AIR_TIME</td>\n",
       "      <td>DISTANCE</td>\n",
       "      <td>0.968405</td>\n",
       "    </tr>\n",
       "    <tr>\n",
       "      <th>4</th>\n",
       "      <td>AIR_TIME</td>\n",
       "      <td>ACTUAL_ELAPSED_TIME</td>\n",
       "      <td>0.967234</td>\n",
       "    </tr>\n",
       "    <tr>\n",
       "      <th>5</th>\n",
       "      <td>ACTUAL_ELAPSED_TIME</td>\n",
       "      <td>AIR_TIME</td>\n",
       "      <td>0.967234</td>\n",
       "    </tr>\n",
       "    <tr>\n",
       "      <th>6</th>\n",
       "      <td>MONTH_Jan</td>\n",
       "      <td>MONTH_Feb</td>\n",
       "      <td>0.966542</td>\n",
       "    </tr>\n",
       "    <tr>\n",
       "      <th>7</th>\n",
       "      <td>MONTH_Feb</td>\n",
       "      <td>MONTH_Jan</td>\n",
       "      <td>0.966542</td>\n",
       "    </tr>\n",
       "    <tr>\n",
       "      <th>8</th>\n",
       "      <td>DISTANCE</td>\n",
       "      <td>CRS_ELAPSED_TIME</td>\n",
       "      <td>0.966197</td>\n",
       "    </tr>\n",
       "    <tr>\n",
       "      <th>9</th>\n",
       "      <td>CRS_ELAPSED_TIME</td>\n",
       "      <td>DISTANCE</td>\n",
       "      <td>0.966197</td>\n",
       "    </tr>\n",
       "    <tr>\n",
       "      <th>10</th>\n",
       "      <td>CRS_ELAPSED_TIME</td>\n",
       "      <td>ACTUAL_ELAPSED_TIME</td>\n",
       "      <td>0.951825</td>\n",
       "    </tr>\n",
       "    <tr>\n",
       "      <th>11</th>\n",
       "      <td>ACTUAL_ELAPSED_TIME</td>\n",
       "      <td>CRS_ELAPSED_TIME</td>\n",
       "      <td>0.951825</td>\n",
       "    </tr>\n",
       "    <tr>\n",
       "      <th>12</th>\n",
       "      <td>DISTANCE</td>\n",
       "      <td>ACTUAL_ELAPSED_TIME</td>\n",
       "      <td>0.928965</td>\n",
       "    </tr>\n",
       "    <tr>\n",
       "      <th>13</th>\n",
       "      <td>ACTUAL_ELAPSED_TIME</td>\n",
       "      <td>DISTANCE</td>\n",
       "      <td>0.928965</td>\n",
       "    </tr>\n",
       "  </tbody>\n",
       "</table>\n",
       "</div>"
      ],
      "text/plain": [
       "               feature1             feature2      corr\n",
       "0      CRS_ELAPSED_TIME             AIR_TIME  0.976137\n",
       "1              AIR_TIME     CRS_ELAPSED_TIME  0.976137\n",
       "2              DISTANCE             AIR_TIME  0.968405\n",
       "3              AIR_TIME             DISTANCE  0.968405\n",
       "4              AIR_TIME  ACTUAL_ELAPSED_TIME  0.967234\n",
       "5   ACTUAL_ELAPSED_TIME             AIR_TIME  0.967234\n",
       "6             MONTH_Jan            MONTH_Feb  0.966542\n",
       "7             MONTH_Feb            MONTH_Jan  0.966542\n",
       "8              DISTANCE     CRS_ELAPSED_TIME  0.966197\n",
       "9      CRS_ELAPSED_TIME             DISTANCE  0.966197\n",
       "10     CRS_ELAPSED_TIME  ACTUAL_ELAPSED_TIME  0.951825\n",
       "11  ACTUAL_ELAPSED_TIME     CRS_ELAPSED_TIME  0.951825\n",
       "12             DISTANCE  ACTUAL_ELAPSED_TIME  0.928965\n",
       "13  ACTUAL_ELAPSED_TIME             DISTANCE  0.928965"
      ]
     },
     "execution_count": 69,
     "metadata": {},
     "output_type": "execute_result"
    }
   ],
   "source": [
    "corrmat"
   ]
  },
  {
   "cell_type": "code",
   "execution_count": 70,
   "id": "ceaad887",
   "metadata": {},
   "outputs": [
    {
     "data": {
      "text/plain": [
       "array(['CRS_ELAPSED_TIME', 'AIR_TIME', 'DISTANCE', 'ACTUAL_ELAPSED_TIME',\n",
       "       'MONTH_Jan', 'MONTH_Feb'], dtype=object)"
      ]
     },
     "execution_count": 70,
     "metadata": {},
     "output_type": "execute_result"
    }
   ],
   "source": [
    "corrmat.feature1.unique()"
   ]
  },
  {
   "cell_type": "code",
   "execution_count": 71,
   "id": "bb256ac5",
   "metadata": {},
   "outputs": [
    {
     "name": "stdout",
     "output_type": "stream",
     "text": [
      "found 2 correlated groups\n",
      "out of 34 total features\n"
     ]
    }
   ],
   "source": [
    "\n",
    "\n",
    "\n",
    "\n",
    "grouped_feature_ls = []\n",
    "correlated_groups = []\n",
    "\n",
    "for feature in corrmat.feature1.unique():\n",
    "    \n",
    "    if feature not in grouped_feature_ls:\n",
    "\n",
    "        # find all features correlated to a single feature\n",
    "        correlated_block = corrmat[corrmat.feature1 == feature]\n",
    "        grouped_feature_ls = grouped_feature_ls + list(\n",
    "            correlated_block.feature2.unique()) + [feature]\n",
    "\n",
    "        # append the block of features to the list\n",
    "        correlated_groups.append(correlated_block)\n",
    "\n",
    "print('found {} correlated groups'.format(len(correlated_groups)))\n",
    "print('out of {} total features'.format(X_train.shape[1]))"
   ]
  },
  {
   "cell_type": "code",
   "execution_count": 72,
   "id": "d278c379",
   "metadata": {},
   "outputs": [
    {
     "name": "stdout",
     "output_type": "stream",
     "text": [
      "            feature1             feature2      corr\n",
      "0   CRS_ELAPSED_TIME             AIR_TIME  0.976137\n",
      "9   CRS_ELAPSED_TIME             DISTANCE  0.966197\n",
      "10  CRS_ELAPSED_TIME  ACTUAL_ELAPSED_TIME  0.951825\n",
      "\n",
      "    feature1   feature2      corr\n",
      "6  MONTH_Jan  MONTH_Feb  0.966542\n",
      "\n"
     ]
    }
   ],
   "source": [
    "# now we can print out each group. We see that some groups contain\n",
    "# only 2 correlated features, some other groups present several features \n",
    "# that are correlated among themselves.\n",
    "\n",
    "for group in correlated_groups:\n",
    "    print(group)\n",
    "    print()"
   ]
  },
  {
   "cell_type": "code",
   "execution_count": 73,
   "id": "59393a0f",
   "metadata": {},
   "outputs": [
    {
     "data": {
      "text/html": [
       "<div>\n",
       "<style scoped>\n",
       "    .dataframe tbody tr th:only-of-type {\n",
       "        vertical-align: middle;\n",
       "    }\n",
       "\n",
       "    .dataframe tbody tr th {\n",
       "        vertical-align: top;\n",
       "    }\n",
       "\n",
       "    .dataframe thead th {\n",
       "        text-align: right;\n",
       "    }\n",
       "</style>\n",
       "<table border=\"1\" class=\"dataframe\">\n",
       "  <thead>\n",
       "    <tr style=\"text-align: right;\">\n",
       "      <th></th>\n",
       "      <th>feature1</th>\n",
       "      <th>feature2</th>\n",
       "      <th>corr</th>\n",
       "    </tr>\n",
       "  </thead>\n",
       "  <tbody>\n",
       "    <tr>\n",
       "      <th>0</th>\n",
       "      <td>CRS_ELAPSED_TIME</td>\n",
       "      <td>AIR_TIME</td>\n",
       "      <td>0.976137</td>\n",
       "    </tr>\n",
       "    <tr>\n",
       "      <th>9</th>\n",
       "      <td>CRS_ELAPSED_TIME</td>\n",
       "      <td>DISTANCE</td>\n",
       "      <td>0.966197</td>\n",
       "    </tr>\n",
       "    <tr>\n",
       "      <th>10</th>\n",
       "      <td>CRS_ELAPSED_TIME</td>\n",
       "      <td>ACTUAL_ELAPSED_TIME</td>\n",
       "      <td>0.951825</td>\n",
       "    </tr>\n",
       "  </tbody>\n",
       "</table>\n",
       "</div>"
      ],
      "text/plain": [
       "            feature1             feature2      corr\n",
       "0   CRS_ELAPSED_TIME             AIR_TIME  0.976137\n",
       "9   CRS_ELAPSED_TIME             DISTANCE  0.966197\n",
       "10  CRS_ELAPSED_TIME  ACTUAL_ELAPSED_TIME  0.951825"
      ]
     },
     "execution_count": 73,
     "metadata": {},
     "output_type": "execute_result"
    }
   ],
   "source": [
    "# we can now investigate further features within one group.\n",
    "# let's for example select group 1\n",
    "\n",
    "group = correlated_groups[0]\n",
    "group"
   ]
  },
  {
   "cell_type": "code",
   "execution_count": 74,
   "id": "8c9e6588",
   "metadata": {},
   "outputs": [
    {
     "data": {
      "text/plain": [
       "RandomForestClassifier(max_depth=4, random_state=100)"
      ]
     },
     "execution_count": 74,
     "metadata": {},
     "output_type": "execute_result"
    }
   ],
   "source": [
    "from sklearn.ensemble import RandomForestClassifier\n",
    "\n",
    "# add all features of the group to a list\n",
    "features = list(group['feature2'].unique())+['CRS_ELAPSED_TIME']\n",
    "\n",
    "# train a random forest \n",
    "rf = RandomForestClassifier(n_estimators=100, random_state=100, max_depth=4)\n",
    "rf.fit(X_train[features].fillna(0), y_train)"
   ]
  },
  {
   "cell_type": "code",
   "execution_count": 75,
   "id": "3f94d93f",
   "metadata": {},
   "outputs": [
    {
     "data": {
      "text/html": [
       "<div>\n",
       "<style scoped>\n",
       "    .dataframe tbody tr th:only-of-type {\n",
       "        vertical-align: middle;\n",
       "    }\n",
       "\n",
       "    .dataframe tbody tr th {\n",
       "        vertical-align: top;\n",
       "    }\n",
       "\n",
       "    .dataframe thead th {\n",
       "        text-align: right;\n",
       "    }\n",
       "</style>\n",
       "<table border=\"1\" class=\"dataframe\">\n",
       "  <thead>\n",
       "    <tr style=\"text-align: right;\">\n",
       "      <th></th>\n",
       "      <th>feature</th>\n",
       "      <th>importance</th>\n",
       "    </tr>\n",
       "  </thead>\n",
       "  <tbody>\n",
       "    <tr>\n",
       "      <th>2</th>\n",
       "      <td>ACTUAL_ELAPSED_TIME</td>\n",
       "      <td>0.496654</td>\n",
       "    </tr>\n",
       "    <tr>\n",
       "      <th>3</th>\n",
       "      <td>CRS_ELAPSED_TIME</td>\n",
       "      <td>0.296414</td>\n",
       "    </tr>\n",
       "    <tr>\n",
       "      <th>1</th>\n",
       "      <td>DISTANCE</td>\n",
       "      <td>0.140793</td>\n",
       "    </tr>\n",
       "    <tr>\n",
       "      <th>0</th>\n",
       "      <td>AIR_TIME</td>\n",
       "      <td>0.066139</td>\n",
       "    </tr>\n",
       "  </tbody>\n",
       "</table>\n",
       "</div>"
      ],
      "text/plain": [
       "               feature  importance\n",
       "2  ACTUAL_ELAPSED_TIME    0.496654\n",
       "3     CRS_ELAPSED_TIME    0.296414\n",
       "1             DISTANCE    0.140793\n",
       "0             AIR_TIME    0.066139"
      ]
     },
     "execution_count": 75,
     "metadata": {},
     "output_type": "execute_result"
    }
   ],
   "source": [
    "# get the feature importance attributed by the \n",
    "# random forest model (more on this in coming lectures)\n",
    "\n",
    "importance = pd.concat(\n",
    "    [pd.Series(features),\n",
    "     pd.Series(rf.feature_importances_)], axis=1)\n",
    "\n",
    "importance.columns = ['feature', 'importance']\n",
    "\n",
    "# sort features by importance, most important first\n",
    "importance.sort_values(by='importance', ascending=False)"
   ]
  },
  {
   "cell_type": "code",
   "execution_count": 76,
   "id": "842cb53c",
   "metadata": {},
   "outputs": [],
   "source": [
    "# Drop the redundant columns \n",
    "flight_data_new.drop(['CRS_ELAPSED_TIME','AIR_TIME'], axis = 1, inplace = True)"
   ]
  },
  {
   "cell_type": "code",
   "execution_count": 77,
   "id": "905ece63",
   "metadata": {},
   "outputs": [],
   "source": [
    "# build a dataframe with the correlation between features\n",
    "# remember that the absolute value of the correlation\n",
    "# coefficient is important and not the sign\n",
    "\n",
    "corrmat = X_train.corr()\n",
    "corrmat = corrmat.abs().unstack() # absolute value of corr coef\n",
    "corrmat = corrmat.sort_values(ascending=False)\n",
    "corrmat = corrmat[corrmat <= -0.8]\n",
    "corrmat = corrmat[corrmat > -1]\n",
    "corrmat = pd.DataFrame(corrmat).reset_index()\n",
    "corrmat.columns = ['feature1', 'feature2', 'corr']"
   ]
  },
  {
   "cell_type": "code",
   "execution_count": 78,
   "id": "3193f248",
   "metadata": {},
   "outputs": [
    {
     "name": "stdout",
     "output_type": "stream",
     "text": [
      "found 0 correlated groups\n",
      "out of 34 total features\n"
     ]
    }
   ],
   "source": [
    "grouped_feature_ls = []\n",
    "correlated_groups = []\n",
    "\n",
    "for feature in corrmat.feature1.unique():\n",
    "    \n",
    "    if feature not in grouped_feature_ls:\n",
    "\n",
    "        # find all features correlated to a single feature\n",
    "        correlated_block = corrmat[corrmat.feature1 == feature]\n",
    "        grouped_feature_ls = grouped_feature_ls + list(\n",
    "            correlated_block.feature2.unique()) + [feature]\n",
    "\n",
    "        # append the block of features to the list\n",
    "        correlated_groups.append(correlated_block)\n",
    "\n",
    "print('found {} correlated groups'.format(len(correlated_groups)))\n",
    "print('out of {} total features'.format(X_train.shape[1]))"
   ]
  },
  {
   "cell_type": "code",
   "execution_count": 79,
   "id": "94240efe",
   "metadata": {},
   "outputs": [
    {
     "data": {
      "text/plain": [
       "((51202, 32), (12801, 32))"
      ]
     },
     "execution_count": 79,
     "metadata": {},
     "output_type": "execute_result"
    }
   ],
   "source": [
    "X_train, X_test, y_train, y_test = train_test_split(\n",
    "    flight_data_new.drop(labels=['FLIGHT_STATUS'], axis=1),\n",
    "    flight_data_new['FLIGHT_STATUS'],\n",
    "    test_size=0.2,\n",
    "    random_state=100)\n",
    "\n",
    "X_train.shape, X_test.shape"
   ]
  },
  {
   "cell_type": "code",
   "execution_count": 80,
   "id": "9fd0f007",
   "metadata": {},
   "outputs": [
    {
     "data": {
      "text/plain": [
       "array([5.51235583e-01, 1.48773495e-01, 3.06116757e-02, 2.75560386e-02,\n",
       "       1.96700206e-02, 1.55991052e-01, 2.40050393e-02, 2.69029438e-05,\n",
       "       2.51470885e-04, 3.53990232e-03, 2.79761472e-04, 2.92945506e-05,\n",
       "       6.60780256e-03, 2.15874723e-04, 2.19600911e-05, 1.43434707e-05,\n",
       "       5.59818847e-05, 3.67368150e-03, 8.69308815e-05, 1.15254659e-04,\n",
       "       2.67912733e-05, 5.75808228e-05, 5.87054356e-03, 4.94905048e-03,\n",
       "       5.77591681e-03, 3.26511749e-04, 6.59853770e-04, 2.10585966e-04,\n",
       "       1.31631934e-03, 4.15256195e-03, 1.34910558e-03, 2.54311240e-03])"
      ]
     },
     "execution_count": 80,
     "metadata": {},
     "output_type": "execute_result"
    }
   ],
   "source": [
    "rf = RandomForestClassifier(n_estimators=100, random_state=100, max_depth=5)\n",
    "rf.fit(X_train, y_train)\n",
    "rf.feature_importances_"
   ]
  },
  {
   "cell_type": "code",
   "execution_count": 81,
   "id": "177076b8",
   "metadata": {},
   "outputs": [
    {
     "data": {
      "image/png": "[encoded data removed]",
      "text/plain": [
       "<Figure size 2000x500 with 1 Axes>"
      ]
     },
     "metadata": {},
     "output_type": "display_data"
    }
   ],
   "source": [
    "# Sorting in descending order and rearranging feature names to match sorted feature importance\n",
    "importance = rf.feature_importances_\n",
    "indices = np.argsort(importance)[::-1] \n",
    "names = [X_train.columns[i] for i in indices]\n",
    "\n",
    "# Bar chart creation\n",
    "sns.set_context(\"notebook\")\n",
    "plt.figure(figsize=(20, 5))\n",
    "plt.title(\"Feature Importance\")\n",
    "plt.bar(range(X_train.shape[1]), importance[indices])\n",
    "plt.xticks(range(X_train.shape[1]), names, rotation = 90)\n",
    "\n",
    "plt.show()"
   ]
  },
  {
   "cell_type": "code",
   "execution_count": 82,
   "id": "b7a8ab7f",
   "metadata": {},
   "outputs": [
    {
     "data": {
      "text/html": [
       "<div>\n",
       "<style scoped>\n",
       "    .dataframe tbody tr th:only-of-type {\n",
       "        vertical-align: middle;\n",
       "    }\n",
       "\n",
       "    .dataframe tbody tr th {\n",
       "        vertical-align: top;\n",
       "    }\n",
       "\n",
       "    .dataframe thead th {\n",
       "        text-align: right;\n",
       "    }\n",
       "</style>\n",
       "<table border=\"1\" class=\"dataframe\">\n",
       "  <thead>\n",
       "    <tr style=\"text-align: right;\">\n",
       "      <th></th>\n",
       "      <th>0</th>\n",
       "      <th>0</th>\n",
       "    </tr>\n",
       "  </thead>\n",
       "  <tbody>\n",
       "    <tr>\n",
       "      <th>0</th>\n",
       "      <td>DEP_DELAY</td>\n",
       "      <td>0.551236</td>\n",
       "    </tr>\n",
       "    <tr>\n",
       "      <th>1</th>\n",
       "      <td>WHEELS_OFF_elapse</td>\n",
       "      <td>0.155991</td>\n",
       "    </tr>\n",
       "    <tr>\n",
       "      <th>2</th>\n",
       "      <td>TAXI_OUT</td>\n",
       "      <td>0.148773</td>\n",
       "    </tr>\n",
       "    <tr>\n",
       "      <th>3</th>\n",
       "      <td>TAXI_IN</td>\n",
       "      <td>0.030612</td>\n",
       "    </tr>\n",
       "    <tr>\n",
       "      <th>4</th>\n",
       "      <td>ACTUAL_ELAPSED_TIME</td>\n",
       "      <td>0.027556</td>\n",
       "    </tr>\n",
       "    <tr>\n",
       "      <th>5</th>\n",
       "      <td>WHEELS_ON_elapse</td>\n",
       "      <td>0.024005</td>\n",
       "    </tr>\n",
       "    <tr>\n",
       "      <th>6</th>\n",
       "      <td>DISTANCE</td>\n",
       "      <td>0.019670</td>\n",
       "    </tr>\n",
       "    <tr>\n",
       "      <th>7</th>\n",
       "      <td>OP_CARRIER_ExpressJet</td>\n",
       "      <td>0.006608</td>\n",
       "    </tr>\n",
       "    <tr>\n",
       "      <th>8</th>\n",
       "      <td>MONTH_Feb</td>\n",
       "      <td>0.005871</td>\n",
       "    </tr>\n",
       "    <tr>\n",
       "      <th>9</th>\n",
       "      <td>MONTH_Mar</td>\n",
       "      <td>0.005776</td>\n",
       "    </tr>\n",
       "    <tr>\n",
       "      <th>10</th>\n",
       "      <td>MONTH_Jan</td>\n",
       "      <td>0.004949</td>\n",
       "    </tr>\n",
       "    <tr>\n",
       "      <th>11</th>\n",
       "      <td>DAY_Thursday</td>\n",
       "      <td>0.004153</td>\n",
       "    </tr>\n",
       "    <tr>\n",
       "      <th>12</th>\n",
       "      <td>OP_CARRIER_PSA Airlines</td>\n",
       "      <td>0.003674</td>\n",
       "    </tr>\n",
       "    <tr>\n",
       "      <th>13</th>\n",
       "      <td>OP_CARRIER_Delta Airlines</td>\n",
       "      <td>0.003540</td>\n",
       "    </tr>\n",
       "    <tr>\n",
       "      <th>14</th>\n",
       "      <td>DAY_Wednesday</td>\n",
       "      <td>0.002543</td>\n",
       "    </tr>\n",
       "    <tr>\n",
       "      <th>15</th>\n",
       "      <td>DAY_Tuesday</td>\n",
       "      <td>0.001349</td>\n",
       "    </tr>\n",
       "    <tr>\n",
       "      <th>16</th>\n",
       "      <td>DAY_Sunday</td>\n",
       "      <td>0.001316</td>\n",
       "    </tr>\n",
       "    <tr>\n",
       "      <th>17</th>\n",
       "      <td>DAY_Monday</td>\n",
       "      <td>0.000660</td>\n",
       "    </tr>\n",
       "    <tr>\n",
       "      <th>18</th>\n",
       "      <td>DAY_Friday</td>\n",
       "      <td>0.000327</td>\n",
       "    </tr>\n",
       "    <tr>\n",
       "      <th>19</th>\n",
       "      <td>OP_CARRIER_Endeavor Air</td>\n",
       "      <td>0.000280</td>\n",
       "    </tr>\n",
       "    <tr>\n",
       "      <th>20</th>\n",
       "      <td>OP_CARRIER_CO</td>\n",
       "      <td>0.000251</td>\n",
       "    </tr>\n",
       "    <tr>\n",
       "      <th>21</th>\n",
       "      <td>OP_CARRIER_FL</td>\n",
       "      <td>0.000216</td>\n",
       "    </tr>\n",
       "    <tr>\n",
       "      <th>22</th>\n",
       "      <td>DAY_Saturday</td>\n",
       "      <td>0.000211</td>\n",
       "    </tr>\n",
       "    <tr>\n",
       "      <th>23</th>\n",
       "      <td>OP_CARRIER_US</td>\n",
       "      <td>0.000115</td>\n",
       "    </tr>\n",
       "    <tr>\n",
       "      <th>24</th>\n",
       "      <td>OP_CARRIER_SkyWest Airlines</td>\n",
       "      <td>0.000087</td>\n",
       "    </tr>\n",
       "    <tr>\n",
       "      <th>25</th>\n",
       "      <td>OP_CARRIER_XE</td>\n",
       "      <td>0.000058</td>\n",
       "    </tr>\n",
       "    <tr>\n",
       "      <th>26</th>\n",
       "      <td>OP_CARRIER_NW</td>\n",
       "      <td>0.000056</td>\n",
       "    </tr>\n",
       "    <tr>\n",
       "      <th>27</th>\n",
       "      <td>OP_CARRIER_Envoy Air</td>\n",
       "      <td>0.000029</td>\n",
       "    </tr>\n",
       "    <tr>\n",
       "      <th>28</th>\n",
       "      <td>OP_CARRIER_American Airlines</td>\n",
       "      <td>0.000027</td>\n",
       "    </tr>\n",
       "    <tr>\n",
       "      <th>29</th>\n",
       "      <td>OP_CARRIER_United Airlines</td>\n",
       "      <td>0.000027</td>\n",
       "    </tr>\n",
       "    <tr>\n",
       "      <th>30</th>\n",
       "      <td>OP_CARRIER_Frontier Airlines</td>\n",
       "      <td>0.000022</td>\n",
       "    </tr>\n",
       "    <tr>\n",
       "      <th>31</th>\n",
       "      <td>OP_CARRIER_Mesa Airline</td>\n",
       "      <td>0.000014</td>\n",
       "    </tr>\n",
       "  </tbody>\n",
       "</table>\n",
       "</div>"
      ],
      "text/plain": [
       "                               0         0\n",
       "0                      DEP_DELAY  0.551236\n",
       "1              WHEELS_OFF_elapse  0.155991\n",
       "2                       TAXI_OUT  0.148773\n",
       "3                        TAXI_IN  0.030612\n",
       "4            ACTUAL_ELAPSED_TIME  0.027556\n",
       "5               WHEELS_ON_elapse  0.024005\n",
       "6                       DISTANCE  0.019670\n",
       "7          OP_CARRIER_ExpressJet  0.006608\n",
       "8                      MONTH_Feb  0.005871\n",
       "9                      MONTH_Mar  0.005776\n",
       "10                     MONTH_Jan  0.004949\n",
       "11                  DAY_Thursday  0.004153\n",
       "12       OP_CARRIER_PSA Airlines  0.003674\n",
       "13     OP_CARRIER_Delta Airlines  0.003540\n",
       "14                 DAY_Wednesday  0.002543\n",
       "15                   DAY_Tuesday  0.001349\n",
       "16                    DAY_Sunday  0.001316\n",
       "17                    DAY_Monday  0.000660\n",
       "18                    DAY_Friday  0.000327\n",
       "19       OP_CARRIER_Endeavor Air  0.000280\n",
       "20                 OP_CARRIER_CO  0.000251\n",
       "21                 OP_CARRIER_FL  0.000216\n",
       "22                  DAY_Saturday  0.000211\n",
       "23                 OP_CARRIER_US  0.000115\n",
       "24   OP_CARRIER_SkyWest Airlines  0.000087\n",
       "25                 OP_CARRIER_XE  0.000058\n",
       "26                 OP_CARRIER_NW  0.000056\n",
       "27          OP_CARRIER_Envoy Air  0.000029\n",
       "28  OP_CARRIER_American Airlines  0.000027\n",
       "29    OP_CARRIER_United Airlines  0.000027\n",
       "30  OP_CARRIER_Frontier Airlines  0.000022\n",
       "31       OP_CARRIER_Mesa Airline  0.000014"
      ]
     },
     "execution_count": 82,
     "metadata": {},
     "output_type": "execute_result"
    }
   ],
   "source": [
    "features=pd.DataFrame(names)\n",
    "scale = pd.DataFrame(importance[indices])\n",
    "keep_features = pd.concat([features, scale],axis=1)\n",
    "keep_features"
   ]
  },
  {
   "cell_type": "markdown",
   "id": "b0972d92",
   "metadata": {},
   "source": [
    "###Classification Modelling"
   ]
  },
  {
   "cell_type": "code",
   "execution_count": 83,
   "id": "52770658",
   "metadata": {},
   "outputs": [],
   "source": [
    "from sklearn.metrics import (\n",
    "    precision_score,\n",
    "    recall_score,\n",
    "    f1_score,\n",
    "    roc_auc_score, \n",
    "    accuracy_score, \n",
    "    confusion_matrix, \n",
    "    classification_report, \n",
    "    plot_confusion_matrix,\n",
    "    plot_precision_recall_curve\n",
    ")"
   ]
  },
  {
   "cell_type": "code",
   "execution_count": 84,
   "id": "fb8740f3",
   "metadata": {},
   "outputs": [
    {
     "name": "stdout",
     "output_type": "stream",
     "text": [
      "<class 'pandas.core.frame.DataFrame'>\n",
      "Int64Index: 64003 entries, 6 to 1047646\n",
      "Data columns (total 33 columns):\n",
      " #   Column                        Non-Null Count  Dtype  \n",
      "---  ------                        --------------  -----  \n",
      " 0   DEP_DELAY                     64003 non-null  float64\n",
      " 1   TAXI_OUT                      64003 non-null  float64\n",
      " 2   TAXI_IN                       64003 non-null  float64\n",
      " 3   ACTUAL_ELAPSED_TIME           64003 non-null  float64\n",
      " 4   DISTANCE                      64003 non-null  int64  \n",
      " 5   WHEELS_OFF_elapse             64003 non-null  float64\n",
      " 6   WHEELS_ON_elapse              64003 non-null  float64\n",
      " 7   FLIGHT_STATUS                 64003 non-null  int64  \n",
      " 8   OP_CARRIER_American Airlines  64003 non-null  uint8  \n",
      " 9   OP_CARRIER_CO                 64003 non-null  uint8  \n",
      " 10  OP_CARRIER_Delta Airlines     64003 non-null  uint8  \n",
      " 11  OP_CARRIER_Endeavor Air       64003 non-null  uint8  \n",
      " 12  OP_CARRIER_Envoy Air          64003 non-null  uint8  \n",
      " 13  OP_CARRIER_ExpressJet         64003 non-null  uint8  \n",
      " 14  OP_CARRIER_FL                 64003 non-null  uint8  \n",
      " 15  OP_CARRIER_Frontier Airlines  64003 non-null  uint8  \n",
      " 16  OP_CARRIER_Mesa Airline       64003 non-null  uint8  \n",
      " 17  OP_CARRIER_NW                 64003 non-null  uint8  \n",
      " 18  OP_CARRIER_PSA Airlines       64003 non-null  uint8  \n",
      " 19  OP_CARRIER_SkyWest Airlines   64003 non-null  uint8  \n",
      " 20  OP_CARRIER_US                 64003 non-null  uint8  \n",
      " 21  OP_CARRIER_United Airlines    64003 non-null  uint8  \n",
      " 22  OP_CARRIER_XE                 64003 non-null  uint8  \n",
      " 23  MONTH_Feb                     64003 non-null  uint8  \n",
      " 24  MONTH_Jan                     64003 non-null  uint8  \n",
      " 25  MONTH_Mar                     64003 non-null  uint8  \n",
      " 26  DAY_Friday                    64003 non-null  uint8  \n",
      " 27  DAY_Monday                    64003 non-null  uint8  \n",
      " 28  DAY_Saturday                  64003 non-null  uint8  \n",
      " 29  DAY_Sunday                    64003 non-null  uint8  \n",
      " 30  DAY_Thursday                  64003 non-null  uint8  \n",
      " 31  DAY_Tuesday                   64003 non-null  uint8  \n",
      " 32  DAY_Wednesday                 64003 non-null  uint8  \n",
      "dtypes: float64(6), int64(2), uint8(25)\n",
      "memory usage: 5.9 MB\n"
     ]
    }
   ],
   "source": [
    "flight_data_new.info()"
   ]
  },
  {
   "cell_type": "code",
   "execution_count": 85,
   "id": "7cc21273",
   "metadata": {},
   "outputs": [
    {
     "name": "stdout",
     "output_type": "stream",
     "text": [
      "<class 'pandas.core.frame.DataFrame'>\n",
      "Int64Index: 64003 entries, 6 to 1047646\n",
      "Data columns (total 33 columns):\n",
      " #   Column                        Non-Null Count  Dtype   \n",
      "---  ------                        --------------  -----   \n",
      " 0   DEP_DELAY                     64003 non-null  float64 \n",
      " 1   TAXI_OUT                      64003 non-null  float64 \n",
      " 2   TAXI_IN                       64003 non-null  float64 \n",
      " 3   ACTUAL_ELAPSED_TIME           64003 non-null  float64 \n",
      " 4   DISTANCE                      64003 non-null  int64   \n",
      " 5   WHEELS_OFF_elapse             64003 non-null  float64 \n",
      " 6   WHEELS_ON_elapse              64003 non-null  float64 \n",
      " 7   FLIGHT_STATUS                 64003 non-null  category\n",
      " 8   OP_CARRIER_American Airlines  64003 non-null  uint8   \n",
      " 9   OP_CARRIER_CO                 64003 non-null  uint8   \n",
      " 10  OP_CARRIER_Delta Airlines     64003 non-null  uint8   \n",
      " 11  OP_CARRIER_Endeavor Air       64003 non-null  uint8   \n",
      " 12  OP_CARRIER_Envoy Air          64003 non-null  uint8   \n",
      " 13  OP_CARRIER_ExpressJet         64003 non-null  uint8   \n",
      " 14  OP_CARRIER_FL                 64003 non-null  uint8   \n",
      " 15  OP_CARRIER_Frontier Airlines  64003 non-null  uint8   \n",
      " 16  OP_CARRIER_Mesa Airline       64003 non-null  uint8   \n",
      " 17  OP_CARRIER_NW                 64003 non-null  uint8   \n",
      " 18  OP_CARRIER_PSA Airlines       64003 non-null  uint8   \n",
      " 19  OP_CARRIER_SkyWest Airlines   64003 non-null  uint8   \n",
      " 20  OP_CARRIER_US                 64003 non-null  uint8   \n",
      " 21  OP_CARRIER_United Airlines    64003 non-null  uint8   \n",
      " 22  OP_CARRIER_XE                 64003 non-null  uint8   \n",
      " 23  MONTH_Feb                     64003 non-null  uint8   \n",
      " 24  MONTH_Jan                     64003 non-null  uint8   \n",
      " 25  MONTH_Mar                     64003 non-null  uint8   \n",
      " 26  DAY_Friday                    64003 non-null  uint8   \n",
      " 27  DAY_Monday                    64003 non-null  uint8   \n",
      " 28  DAY_Saturday                  64003 non-null  uint8   \n",
      " 29  DAY_Sunday                    64003 non-null  uint8   \n",
      " 30  DAY_Thursday                  64003 non-null  uint8   \n",
      " 31  DAY_Tuesday                   64003 non-null  uint8   \n",
      " 32  DAY_Wednesday                 64003 non-null  uint8   \n",
      "dtypes: category(1), float64(6), int64(1), uint8(25)\n",
      "memory usage: 5.5 MB\n"
     ]
    }
   ],
   "source": [
    "flight_data_new[\"FLIGHT_STATUS\"] = flight_data_new[\"FLIGHT_STATUS\"].astype('category')\n",
    "flight_data_new.info()"
   ]
  },
  {
   "cell_type": "code",
   "execution_count": 86,
   "id": "75ba1acc",
   "metadata": {},
   "outputs": [],
   "source": [
    "flight_data_new.to_csv('flight_data_new.csv',index=False)"
   ]
  },
  {
   "cell_type": "code",
   "execution_count": 87,
   "id": "613ac26e",
   "metadata": {},
   "outputs": [
    {
     "data": {
      "text/plain": [
       "((51202, 32), (12801, 32))"
      ]
     },
     "execution_count": 87,
     "metadata": {},
     "output_type": "execute_result"
    }
   ],
   "source": [
    "X_train, X_test, y_train, y_test = train_test_split(\n",
    "    flight_data_new.drop(labels=['FLIGHT_STATUS'], axis=1),\n",
    "    flight_data_new['FLIGHT_STATUS'],\n",
    "    test_size=0.2,\n",
    "    random_state=100)\n",
    "\n",
    "X_train.shape, X_test.shape"
   ]
  },
  {
   "cell_type": "markdown",
   "id": "f376dab2",
   "metadata": {},
   "source": [
    "####Random Forest"
   ]
  },
  {
   "cell_type": "code",
   "execution_count": 88,
   "id": "1b36e16c",
   "metadata": {},
   "outputs": [],
   "source": [
    "def run_randomForests(X_train, X_test, y_train, y_test):\n",
    "    rf = RandomForestClassifier(n_estimators=100, random_state=100, max_depth=4)\n",
    "    rf.fit(X_train, y_train)\n",
    "\n",
    "    print('Test set')\n",
    "    pred = rf.predict_proba(X_test)\n",
    "    print('Roc-auc Random Forests roc-auc: {}'.format(roc_auc_score(y_test, pred[:,1])))\n",
    "    print()\n",
    "    print('Accuracy Random Forest test:', accuracy_score(y_test, rf.predict(X_test)))\n",
    "    print()\n",
    "    print('Precision Random Forest test:', precision_score(y_test, rf.predict(X_test),pos_label=1))\n",
    "    print()\n",
    "    print('Recall Random Forest test:', recall_score(y_test, rf.predict(X_test),pos_label=1))\n",
    "    print()\n",
    "    print('F-measure Random Forest test:', f1_score(y_test, rf.predict(X_test),pos_label=1))\n",
    "    print()\n",
    "    print('Summary Report:')\n",
    "    print(classification_report(y_test, rf.predict(X_test)))"
   ]
  },
  {
   "cell_type": "code",
   "execution_count": 89,
   "id": "d94b86b4",
   "metadata": {},
   "outputs": [
    {
     "name": "stdout",
     "output_type": "stream",
     "text": [
      "Test set\n",
      "Roc-auc Random Forests roc-auc: 0.9481044312427942\n",
      "\n",
      "Accuracy Random Forest test: 0.9011014764471525\n",
      "\n",
      "Precision Random Forest test: 0.9399646851088875\n",
      "\n",
      "Recall Random Forest test: 0.5784136182542557\n",
      "\n",
      "F-measure Random Forest test: 0.7161434977578476\n",
      "\n",
      "Summary Report:\n",
      "              precision    recall  f1-score   support\n",
      "\n",
      "           0       0.90      0.99      0.94     10040\n",
      "           1       0.94      0.58      0.72      2761\n",
      "\n",
      "    accuracy                           0.90     12801\n",
      "   macro avg       0.92      0.78      0.83     12801\n",
      "weighted avg       0.90      0.90      0.89     12801\n",
      "\n"
     ]
    }
   ],
   "source": [
    "run_randomForests(X_train, X_test, y_train, y_test)"
   ]
  },
  {
   "cell_type": "markdown",
   "id": "0fa4c721",
   "metadata": {},
   "source": [
    "###Logistic Regression"
   ]
  },
  {
   "cell_type": "code",
   "execution_count": 90,
   "id": "d80ee182",
   "metadata": {},
   "outputs": [],
   "source": [
    "from sklearn.linear_model import LogisticRegression"
   ]
  },
  {
   "cell_type": "code",
   "execution_count": 91,
   "id": "02661259",
   "metadata": {},
   "outputs": [],
   "source": [
    "def run_logisticReg(X_train, X_test, y_train, y_test):\n",
    "    lr = LogisticRegression(random_state=100)\n",
    "    lr.fit(X_train, y_train)\n",
    "\n",
    "    print('Test set')\n",
    "    pred = lr.predict_proba(X_test)\n",
    "    print('Roc-auc Logistic Regression roc-auc: {}'.format(roc_auc_score(y_test, pred[:,1])))\n",
    "    print()\n",
    "    print('Accuracy Logistic Regression:', accuracy_score(y_test, lr.predict(X_test)))\n",
    "    print()\n",
    "    print('Precision Logistic Regression:', precision_score(y_test, lr.predict(X_test),pos_label=1))\n",
    "    print()\n",
    "    print('Recall Logistic Regression:', recall_score(y_test, lr.predict(X_test),pos_label=1))\n",
    "    print()\n",
    "    print('F-measure Logistic Regression:', f1_score(y_test, lr.predict(X_test),pos_label=1))\n",
    "    print()\n",
    "    print('Summary Report:')\n",
    "    print(classification_report(y_test, lr.predict(X_test)))"
   ]
  },
  {
   "cell_type": "code",
   "execution_count": 92,
   "id": "8bd64cd5",
   "metadata": {},
   "outputs": [
    {
     "name": "stdout",
     "output_type": "stream",
     "text": [
      "Test set\n",
      "Roc-auc Logistic Regression roc-auc: 0.9699882469398033\n",
      "\n",
      "Accuracy Logistic Regression: 0.9243027888446215\n",
      "\n",
      "Precision Logistic Regression: 0.8736447039199333\n",
      "\n",
      "Recall Logistic Regression: 0.758783049619703\n",
      "\n",
      "F-measure Logistic Regression: 0.8121729017251406\n",
      "\n",
      "Summary Report:\n",
      "              precision    recall  f1-score   support\n",
      "\n",
      "           0       0.94      0.97      0.95     10040\n",
      "           1       0.87      0.76      0.81      2761\n",
      "\n",
      "    accuracy                           0.92     12801\n",
      "   macro avg       0.90      0.86      0.88     12801\n",
      "weighted avg       0.92      0.92      0.92     12801\n",
      "\n"
     ]
    }
   ],
   "source": [
    "run_logisticReg(X_train, X_test, y_train, y_test)"
   ]
  },
  {
   "cell_type": "markdown",
   "id": "ce2ebe74",
   "metadata": {},
   "source": [
    "###Decision Tree"
   ]
  },
  {
   "cell_type": "code",
   "execution_count": 93,
   "id": "d1020d70",
   "metadata": {},
   "outputs": [],
   "source": [
    "from sklearn.tree import DecisionTreeClassifier"
   ]
  },
  {
   "cell_type": "code",
   "execution_count": 94,
   "id": "ff862fc8",
   "metadata": {},
   "outputs": [],
   "source": [
    "def run_DT(X_train, X_test, y_train, y_test):\n",
    "    DT = DecisionTreeClassifier(random_state=100)\n",
    "    DT = DT.fit(X_train,y_train)\n",
    "\n",
    "    print('Test set')\n",
    "    pred = DT.predict_proba(X_test)\n",
    "    print('Roc-auc Decision Tree roc-auc: {}'.format(roc_auc_score(y_test, pred[:,1])))\n",
    "    print()\n",
    "    print('Accuracy Decision Tree:', accuracy_score(y_test, DT.predict(X_test)))\n",
    "    print()\n",
    "    print('Precision Decision Tree:', precision_score(y_test, DT.predict(X_test),pos_label=1))\n",
    "    print()\n",
    "    print('Recall Decision Tree:', recall_score(y_test, DT.predict(X_test),pos_label=1))\n",
    "    print()\n",
    "    print('F-measure Decision Tree:', f1_score(y_test, DT.predict(X_test),pos_label=1))\n",
    "    print()\n",
    "    print('Summary Report:')\n",
    "    print(classification_report(y_test, DT.predict(X_test)))"
   ]
  },
  {
   "cell_type": "code",
   "execution_count": 95,
   "id": "7dc74a20",
   "metadata": {},
   "outputs": [
    {
     "name": "stdout",
     "output_type": "stream",
     "text": [
      "Test set\n",
      "Roc-auc Decision Tree roc-auc: 0.8754119884099963\n",
      "\n",
      "Accuracy Decision Tree: 0.9174283259120382\n",
      "\n",
      "Precision Decision Tree: 0.8130051432770022\n",
      "\n",
      "Recall Decision Tree: 0.8015211879753712\n",
      "\n",
      "F-measure Decision Tree: 0.8072223235455043\n",
      "\n",
      "Summary Report:\n",
      "              precision    recall  f1-score   support\n",
      "\n",
      "           0       0.95      0.95      0.95     10040\n",
      "           1       0.81      0.80      0.81      2761\n",
      "\n",
      "    accuracy                           0.92     12801\n",
      "   macro avg       0.88      0.88      0.88     12801\n",
      "weighted avg       0.92      0.92      0.92     12801\n",
      "\n"
     ]
    }
   ],
   "source": [
    "run_DT(X_train, X_test, y_train, y_test)"
   ]
  }
 ],
 "metadata": {
  "kernelspec": {
   "display_name": "Python 3 (ipykernel)",
   "language": "python",
   "name": "python3"
  },
  "language_info": {
   "codemirror_mode": {
    "name": "ipython",
    "version": 3
   },
   "file_extension": ".py",
   "mimetype": "text/x-python",
   "name": "python",
   "nbconvert_exporter": "python",
   "pygments_lexer": "ipython3",
   "version": "3.9.13"
  }
 },
 "nbformat": 4,
 "nbformat_minor": 5
}
